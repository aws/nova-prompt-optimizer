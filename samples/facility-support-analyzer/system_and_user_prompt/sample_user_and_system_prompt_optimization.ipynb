{
 "cells": [
  {
   "cell_type": "markdown",
   "id": "6cc6e0e5-e71f-4eed-adbb-98546efded15",
   "metadata": {},
   "source": [
    "### Setup AWS Credentials"
   ]
  },
  {
   "cell_type": "code",
   "execution_count": null,
   "id": "8954cb65-5eb1-4e76-92bb-331be63f7e73",
   "metadata": {},
   "outputs": [],
   "source": [
    "import os\n",
    "# Setup your AWS Access Key and Secret Key as environment variables.\n",
    "os.environ[\"AWS_ACCESS_KEY_ID\"]\n",
    "os.environ[\"AWS_SECRET_ACCESS_KEY\"] "
   ]
  },
  {
   "cell_type": "code",
   "execution_count": 4,
   "id": "8d981604",
   "metadata": {},
   "outputs": [],
   "source": [
    "# Setup Nova Model\n",
    "NOVA_MODEL_ID = \"us.amazon.nova-pro-v1:0\""
   ]
  },
  {
   "cell_type": "markdown",
   "id": "74fc38c9-7b03-4c7b-824c-dac92201aa15",
   "metadata": {},
   "source": [
    "### Dataset Adapter\n",
    "\n",
    "Initialize the Dataset Adapter that takes the input_columns and output_columns. We use the CSVDatasetAdapter to read a `.csv` file and adapt it to the standardized format. We also use the adapter to create train and test sets for our use case."
   ]
  },
  {
   "cell_type": "code",
   "execution_count": 19,
   "id": "da047488-0220-4e49-b8d0-361c5afcdfb4",
   "metadata": {},
   "outputs": [],
   "source": [
    "from amzn_nova_prompt_optimizer.core.input_adapters.dataset_adapter import CSVDatasetAdapter\n",
    "\n",
    "input_columns = {\"input\"}\n",
    "output_columns = {\"answer\"}\n",
    "\n",
    "dataset_adapter = CSVDatasetAdapter(input_columns, output_columns)\n",
    "\n",
    "# Adapt\n",
    "dataset_adapter.adapt(\"../data/FacilitySupportAnalyzer.csv\")\n",
    "\n",
    "train_set, test_set = dataset_adapter.split(0.5)"
   ]
  },
  {
   "cell_type": "markdown",
   "id": "22305416-5912-429f-b47b-04592a0966da",
   "metadata": {},
   "source": [
    "### Prompt Adapter\n",
    "\n",
    "Initialize the Prompt Adapter for the Original Prompt. For this example, we use the FacilitySupportAnalyzer System and User Prompt in the `.txt` format. "
   ]
  },
  {
   "cell_type": "code",
   "execution_count": 20,
   "id": "621dc01d-6896-4a37-ad64-63f27c597f75",
   "metadata": {},
   "outputs": [
    {
     "data": {
      "text/plain": [
       "<amzn_nova_prompt_optimizer.core.input_adapters.prompt_adapter.TextPromptAdapter at 0x7fa169608560>"
      ]
     },
     "execution_count": 20,
     "metadata": {},
     "output_type": "execute_result"
    }
   ],
   "source": [
    "from amzn_nova_prompt_optimizer.core.input_adapters.prompt_adapter import TextPromptAdapter\n",
    "\n",
    "prompt_variables = input_columns\n",
    "\n",
    "prompt_adapter = TextPromptAdapter()\n",
    "\n",
    "prompt_adapter.set_system_prompt(file_path=\"original_prompt/system_prompt.txt\", variables=prompt_variables)\n",
    "prompt_adapter.set_user_prompt(file_path=\"original_prompt/user_prompt.txt\", variables=prompt_variables)\n",
    "\n",
    "# Adapt\n",
    "prompt_adapter.adapt()"
   ]
  },
  {
   "cell_type": "markdown",
   "id": "8349aeee-4f9a-49e0-94cb-029f2c4fb05f",
   "metadata": {},
   "source": [
    "### Metric Adapter\n",
    "\n",
    "Initialize the Metric Adapter for evaluating this prompt for certain optimizers. For this example, we build a Custom Metric for the FacilitySupportAnalyzer Dataset. The metric adapter requires the use of the `apply` [For single row evaluation] or `batch_apply` [For evaluating the whole dataset together] function"
   ]
  },
  {
   "cell_type": "code",
   "execution_count": 21,
   "id": "f093a481-31a0-4871-99a0-670a60d67b1d",
   "metadata": {},
   "outputs": [],
   "source": [
    "from amzn_nova_prompt_optimizer.core.input_adapters.metric_adapter import MetricAdapter\n",
    "from typing import List, Any, Dict\n",
    "import re\n",
    "import json\n",
    "\n",
    "class FacilitySupportAnalyzerMetric(MetricAdapter):\n",
    "    def parse_json(self, input_string: str):\n",
    "        \"\"\"\n",
    "        Attempts to parse the given string as JSON. If direct parsing fails,\n",
    "        it tries to extract a JSON snippet from code blocks formatted as:\n",
    "            ```json\n",
    "            ... JSON content ...\n",
    "            ```\n",
    "        or any code block delimited by triple backticks and then parses that content.\n",
    "        \"\"\"\n",
    "        try:\n",
    "            return json.loads(input_string)\n",
    "        except json.JSONDecodeError as err:\n",
    "            error = err\n",
    "\n",
    "        patterns = [\n",
    "            re.compile(r\"```json\\s*(.*?)\\s*```\", re.DOTALL | re.IGNORECASE),\n",
    "            re.compile(r\"```(.*?)```\", re.DOTALL)\n",
    "        ]\n",
    "\n",
    "        for pattern in patterns:\n",
    "            match = pattern.search(input_string)\n",
    "            if match:\n",
    "                json_candidate = match.group(1).strip()\n",
    "                try:\n",
    "                    return json.loads(json_candidate)\n",
    "                except json.JSONDecodeError:\n",
    "                    continue\n",
    "\n",
    "        raise error\n",
    "\n",
    "    def _calculate_metrics(self, y_pred: Any, y_true: Any) -> Dict:\n",
    "        strict_json = False\n",
    "        result = {\n",
    "            \"is_valid_json\": False,\n",
    "            \"correct_categories\": 0.0,\n",
    "            \"correct_sentiment\": False,\n",
    "            \"correct_urgency\": False,\n",
    "        }\n",
    "\n",
    "        try:\n",
    "            y_true = y_true if isinstance(y_true, dict) else (json.loads(y_true) if strict_json else self.parse_json(y_true))\n",
    "            y_pred = y_pred if isinstance(y_pred, dict) else (json.loads(y_pred) if strict_json else self.parse_json(y_pred))\n",
    "        except json.JSONDecodeError:\n",
    "            result[\"total\"] = 0\n",
    "            return result  # Return result with is_valid_json = False\n",
    "        else:\n",
    "            if isinstance(y_pred, str):\n",
    "                result[\"total\"] = 0\n",
    "                return result  # Return result with is_valid_json = False\n",
    "            result[\"is_valid_json\"] = True\n",
    "\n",
    "            categories_true = y_true.get(\"categories\", {})\n",
    "            categories_pred = y_pred.get(\"categories\", {})\n",
    "\n",
    "            if isinstance(categories_true, dict) and isinstance(categories_pred, dict):\n",
    "                correct = sum(\n",
    "                    categories_true.get(k, False) == categories_pred.get(k, False)\n",
    "                    for k in categories_true\n",
    "                )\n",
    "                result[\"correct_categories\"] = correct / len(categories_true) if categories_true else 0.0\n",
    "            else:\n",
    "                result[\"correct_categories\"] = 0.0  # or raise an error if you prefer\n",
    "\n",
    "            result[\"correct_sentiment\"] = y_pred.get(\"sentiment\", \"\") == y_true.get(\"sentiment\", \"\")\n",
    "            result[\"correct_urgency\"] = y_pred.get(\"urgency\", \"\") == y_true.get(\"urgency\", \"\")\n",
    "\n",
    "        # Compute overall metric score\n",
    "        result[\"total\"] = sum(\n",
    "            float(result[k]) for k in [\"correct_categories\", \"correct_sentiment\", \"correct_urgency\"]\n",
    "        ) / 3.0\n",
    "\n",
    "        return result\n",
    "\n",
    "    def apply(self, y_pred: Any, y_true: Any):\n",
    "        return self._calculate_metrics(y_pred, y_true)\n",
    "\n",
    "    def batch_apply(self, y_preds: List[Any], y_trues: List[Any]):\n",
    "        evals = [self.apply(y_pred, y_true) for y_pred, y_true in zip(y_preds, y_trues)]\n",
    "        float_keys = [k for k, v in evals[0].items() if isinstance(v, (int, float, bool))]\n",
    "        return {k: sum(e[k] for e in evals) / len(evals) for k in float_keys}\n",
    "\n",
    "metric_adapter = FacilitySupportAnalyzerMetric()"
   ]
  },
  {
   "cell_type": "markdown",
   "id": "2852c904-42e8-46a2-ad9e-a2e88d8eba6a",
   "metadata": {},
   "source": [
    "### Inference Adapter\n",
    "Initialize the InferenceAdapter to choose the backend Inference. Currently, we only support BedrockInferenceAdapter."
   ]
  },
  {
   "cell_type": "code",
   "execution_count": 22,
   "id": "ea654ddd-59d0-495e-8e56-29fe0ed6dd7b",
   "metadata": {},
   "outputs": [],
   "source": [
    "from amzn_nova_prompt_optimizer.core.inference.adapter import BedrockInferenceAdapter\n",
    "\n",
    "inference_adapter = BedrockInferenceAdapter(region_name=\"us-east-1\")"
   ]
  },
  {
   "cell_type": "markdown",
   "id": "4bb20883-793c-4b38-8e2c-7f2d461cc2fb",
   "metadata": {},
   "source": [
    "### Evaluator\n",
    "\n",
    "The Evaluator can use the metric_adapter, prompt_adapter, and dataset_adapter to evaluate the prompt given the `model_id` to produce an evaluation score. The Evaluator internally uses the `InferenceRunner` to first generate inference results and then evaluate the output."
   ]
  },
  {
   "cell_type": "markdown",
   "id": "27bb5ac6",
   "metadata": {},
   "source": [
    "#### Base Model Evaluation"
   ]
  },
  {
   "cell_type": "code",
   "execution_count": 23,
   "id": "9f158430-ed74-470c-8657-2b49b57ae79f",
   "metadata": {},
   "outputs": [],
   "source": [
    "from amzn_nova_prompt_optimizer.core.evaluation import Evaluator\n",
    "\n",
    "evaluator = Evaluator(prompt_adapter, test_set, metric_adapter, inference_adapter)"
   ]
  },
  {
   "cell_type": "code",
   "execution_count": 24,
   "id": "33974a07-c556-4238-a39c-12601fa01e14",
   "metadata": {},
   "outputs": [
    {
     "name": "stderr",
     "output_type": "stream",
     "text": [
      "2025/07/02 20:46:37 INFO amzn_nova_prompt_optimizer.core.evaluation: Cache miss - Running new inference on Dataset\n",
      "Running inference: 100%|██████████████████████████████████████████████████████████████████████████| 100/100 [00:48<00:00,  2.05it/s]\n",
      "2025/07/02 20:47:25 INFO amzn_nova_prompt_optimizer.core.evaluation: Running Batch Evaluation on Dataset, using `batch_apply` metric\n",
      "2025/07/02 20:47:25 INFO amzn_nova_prompt_optimizer.core.evaluation: Using cached inference results\n",
      "2025/07/02 20:47:25 INFO amzn_nova_prompt_optimizer.core.evaluation: Running Evaluation on Dataset, using `apply` metric\n"
     ]
    },
    {
     "name": "stdout",
     "output_type": "stream",
     "text": [
      "Original Prompt Evaluation Score = {'is_valid_json': 0.31, 'correct_categories': 0.281, 'correct_sentiment': 0.2, 'correct_urgency': 0.26, 'total': 0.247}\n"
     ]
    }
   ],
   "source": [
    "original_prompt_score = evaluator.aggregate_score(model_id=NOVA_MODEL_ID)\n",
    "\n",
    "print(f\"Original Prompt Evaluation Score = {original_prompt_score}\")"
   ]
  },
  {
   "cell_type": "markdown",
   "id": "fab372d4-8ffc-4104-a5f6-30160a48f9f6",
   "metadata": {},
   "source": [
    "### Optimization Adapter\n",
    "\n",
    "We can now define the Optimization Functions. The Optimization function takes as input the Prompt Adapter and Optionally a Dataset Adapter, Inference Adapter, and Metric Adapter. The optimization function optimizes the prompt and returns a Prompt Adapter."
   ]
  },
  {
   "cell_type": "code",
   "execution_count": 9,
   "id": "8241fc92",
   "metadata": {},
   "outputs": [],
   "source": [
    "class FacilitySupportAnalyzerNovaMetric(FacilitySupportAnalyzerMetric):\n",
    "    def apply(self, y_pred: Any, y_true: Any):\n",
    "        # Requires to return a value and not a JSON payload\n",
    "        return self._calculate_metrics(y_pred, y_true)[\"total\"]\n",
    "        \n",
    "    def batch_apply(self, y_preds: List[Any], y_trues: List[Any]):\n",
    "        pass\n",
    "nova_metric_adapter = FacilitySupportAnalyzerNovaMetric()"
   ]
  },
  {
   "cell_type": "markdown",
   "id": "9e9f98bc",
   "metadata": {},
   "source": [
    "#### NovaPromptOptimizer\n",
    "\n",
    "NovaPromptOptimizer = Nova Meta Prompter + MIPROv2 with Nova Model Tips"
   ]
  },
  {
   "cell_type": "code",
   "execution_count": 10,
   "id": "d7c2d973",
   "metadata": {},
   "outputs": [
    {
     "name": "stderr",
     "output_type": "stream",
     "text": [
      "2025/07/02 20:18:53 INFO amzn_nova_prompt_optimizer.core.optimizers.nova_meta_prompter.nova_mp_optimizer: Optimizing prompt using Nova Meta Prompter\n",
      "2025/07/02 20:18:59 INFO amzn_nova_prompt_optimizer.core.optimizers.miprov2.miprov2_optimizer: Using us.amazon.nova-pro-v1:0 for Evaluation\n",
      "2025/07/02 20:18:59 INFO amzn_nova_prompt_optimizer.core.optimizers.miprov2.miprov2_optimizer: Using us.amazon.nova-premier-v1:0 for Prompting\n",
      "2025/07/02 20:18:59 INFO amzn_nova_prompt_optimizer.core.optimizers.miprov2.custom_adapters.custom_chat_adapter: Initializing CustomChatAdapter with enable_json_fallback=False\n",
      "2025/07/02 20:18:59 INFO amzn_nova_prompt_optimizer.core.optimizers.miprov2.miprov2_optimizer: Using Nova tips for MIPROv2 optimization\n",
      "2025/07/02 20:18:59 INFO dspy.teleprompt.mipro_optimizer_v2: \n",
      "==> STEP 1: BOOTSTRAP FEWSHOT EXAMPLES <==\n",
      "2025/07/02 20:18:59 INFO dspy.teleprompt.mipro_optimizer_v2: These will be used as few-shot example candidates for our program and for creating instructions.\n",
      "\n",
      "2025/07/02 20:18:59 INFO dspy.teleprompt.mipro_optimizer_v2: Bootstrapping N=20 sets of demonstrations...\n"
     ]
    },
    {
     "name": "stdout",
     "output_type": "stream",
     "text": [
      "Bootstrapping set 1/20\n",
      "Bootstrapping set 2/20\n",
      "Bootstrapping set 3/20\n"
     ]
    },
    {
     "name": "stderr",
     "output_type": "stream",
     "text": [
      "  8%|███████▋                                                                                        | 4/50 [00:06<01:10,  1.54s/it]\n"
     ]
    },
    {
     "name": "stdout",
     "output_type": "stream",
     "text": [
      "Bootstrapped 4 full traces after 4 examples for up to 1 rounds, amounting to 4 attempts.\n",
      "Bootstrapping set 4/20\n"
     ]
    },
    {
     "name": "stderr",
     "output_type": "stream",
     "text": [
      "  8%|███████▋                                                                                        | 4/50 [00:05<00:58,  1.28s/it]\n"
     ]
    },
    {
     "name": "stdout",
     "output_type": "stream",
     "text": [
      "Bootstrapped 4 full traces after 4 examples for up to 1 rounds, amounting to 4 attempts.\n",
      "Bootstrapping set 5/20\n"
     ]
    },
    {
     "name": "stderr",
     "output_type": "stream",
     "text": [
      "  6%|█████▊                                                                                          | 3/50 [00:04<01:05,  1.40s/it]\n"
     ]
    },
    {
     "name": "stdout",
     "output_type": "stream",
     "text": [
      "Bootstrapped 3 full traces after 3 examples for up to 1 rounds, amounting to 3 attempts.\n",
      "Bootstrapping set 6/20\n"
     ]
    },
    {
     "name": "stderr",
     "output_type": "stream",
     "text": [
      "  4%|███▊                                                                                            | 2/50 [00:03<01:18,  1.64s/it]\n"
     ]
    },
    {
     "name": "stdout",
     "output_type": "stream",
     "text": [
      "Bootstrapped 2 full traces after 2 examples for up to 1 rounds, amounting to 2 attempts.\n",
      "Bootstrapping set 7/20\n"
     ]
    },
    {
     "name": "stderr",
     "output_type": "stream",
     "text": [
      "  2%|█▉                                                                                              | 1/50 [00:01<01:23,  1.71s/it]\n"
     ]
    },
    {
     "name": "stdout",
     "output_type": "stream",
     "text": [
      "Bootstrapped 1 full traces after 1 examples for up to 1 rounds, amounting to 1 attempts.\n",
      "Bootstrapping set 8/20\n"
     ]
    },
    {
     "name": "stderr",
     "output_type": "stream",
     "text": [
      "  6%|█████▊                                                                                          | 3/50 [00:04<01:18,  1.66s/it]\n"
     ]
    },
    {
     "name": "stdout",
     "output_type": "stream",
     "text": [
      "Bootstrapped 3 full traces after 3 examples for up to 1 rounds, amounting to 3 attempts.\n",
      "Bootstrapping set 9/20\n"
     ]
    },
    {
     "name": "stderr",
     "output_type": "stream",
     "text": [
      "  8%|███████▋                                                                                        | 4/50 [00:05<01:01,  1.34s/it]\n"
     ]
    },
    {
     "name": "stdout",
     "output_type": "stream",
     "text": [
      "Bootstrapped 4 full traces after 4 examples for up to 1 rounds, amounting to 4 attempts.\n",
      "Bootstrapping set 10/20\n"
     ]
    },
    {
     "name": "stderr",
     "output_type": "stream",
     "text": [
      "  6%|█████▊                                                                                          | 3/50 [00:04<01:05,  1.40s/it]\n"
     ]
    },
    {
     "name": "stdout",
     "output_type": "stream",
     "text": [
      "Bootstrapped 3 full traces after 3 examples for up to 1 rounds, amounting to 3 attempts.\n",
      "Bootstrapping set 11/20\n"
     ]
    },
    {
     "name": "stderr",
     "output_type": "stream",
     "text": [
      "  2%|█▉                                                                                              | 1/50 [00:01<01:00,  1.23s/it]\n"
     ]
    },
    {
     "name": "stdout",
     "output_type": "stream",
     "text": [
      "Bootstrapped 1 full traces after 1 examples for up to 1 rounds, amounting to 1 attempts.\n",
      "Bootstrapping set 12/20\n"
     ]
    },
    {
     "name": "stderr",
     "output_type": "stream",
     "text": [
      "  6%|█████▊                                                                                          | 3/50 [00:04<01:04,  1.38s/it]\n"
     ]
    },
    {
     "name": "stdout",
     "output_type": "stream",
     "text": [
      "Bootstrapped 3 full traces after 3 examples for up to 1 rounds, amounting to 3 attempts.\n",
      "Bootstrapping set 13/20\n"
     ]
    },
    {
     "name": "stderr",
     "output_type": "stream",
     "text": [
      "  6%|█████▊                                                                                          | 3/50 [00:04<01:03,  1.35s/it]\n"
     ]
    },
    {
     "name": "stdout",
     "output_type": "stream",
     "text": [
      "Bootstrapped 3 full traces after 3 examples for up to 1 rounds, amounting to 3 attempts.\n",
      "Bootstrapping set 14/20\n"
     ]
    },
    {
     "name": "stderr",
     "output_type": "stream",
     "text": [
      "  4%|███▊                                                                                            | 2/50 [00:02<00:56,  1.17s/it]\n"
     ]
    },
    {
     "name": "stdout",
     "output_type": "stream",
     "text": [
      "Bootstrapped 2 full traces after 2 examples for up to 1 rounds, amounting to 2 attempts.\n",
      "Bootstrapping set 15/20\n"
     ]
    },
    {
     "name": "stderr",
     "output_type": "stream",
     "text": [
      "  4%|███▊                                                                                            | 2/50 [00:02<01:06,  1.39s/it]\n"
     ]
    },
    {
     "name": "stdout",
     "output_type": "stream",
     "text": [
      "Bootstrapped 2 full traces after 2 examples for up to 1 rounds, amounting to 2 attempts.\n",
      "Bootstrapping set 16/20\n"
     ]
    },
    {
     "name": "stderr",
     "output_type": "stream",
     "text": [
      "  8%|███████▋                                                                                        | 4/50 [00:05<01:03,  1.39s/it]\n"
     ]
    },
    {
     "name": "stdout",
     "output_type": "stream",
     "text": [
      "Bootstrapped 4 full traces after 4 examples for up to 1 rounds, amounting to 4 attempts.\n",
      "Bootstrapping set 17/20\n"
     ]
    },
    {
     "name": "stderr",
     "output_type": "stream",
     "text": [
      "  8%|███████▋                                                                                        | 4/50 [00:05<01:04,  1.39s/it]\n"
     ]
    },
    {
     "name": "stdout",
     "output_type": "stream",
     "text": [
      "Bootstrapped 4 full traces after 4 examples for up to 1 rounds, amounting to 4 attempts.\n",
      "Bootstrapping set 18/20\n"
     ]
    },
    {
     "name": "stderr",
     "output_type": "stream",
     "text": [
      "  6%|█████▊                                                                                          | 3/50 [00:04<01:11,  1.53s/it]\n"
     ]
    },
    {
     "name": "stdout",
     "output_type": "stream",
     "text": [
      "Bootstrapped 3 full traces after 3 examples for up to 1 rounds, amounting to 3 attempts.\n",
      "Bootstrapping set 19/20\n"
     ]
    },
    {
     "name": "stderr",
     "output_type": "stream",
     "text": [
      "  2%|█▉                                                                                              | 1/50 [00:01<01:22,  1.69s/it]\n"
     ]
    },
    {
     "name": "stdout",
     "output_type": "stream",
     "text": [
      "Bootstrapped 1 full traces after 1 examples for up to 1 rounds, amounting to 1 attempts.\n",
      "Bootstrapping set 20/20\n"
     ]
    },
    {
     "name": "stderr",
     "output_type": "stream",
     "text": [
      "  2%|█▉                                                                                              | 1/50 [00:01<01:07,  1.38s/it]\n",
      "2025/07/02 20:20:07 INFO amzn_nova_prompt_optimizer.core.optimizers.miprov2.miprov2_optimizer: Entering patched_propose_instructions, patching GroundedProposer with NovaGroundedProposer\n",
      "2025/07/02 20:20:07 INFO amzn_nova_prompt_optimizer.core.optimizers.miprov2.miprov2_optimizer: Patched GroundedProposer, current GroundedProposer class=<class 'amzn_nova_prompt_optimizer.core.optimizers.nova_prompt_optimizer.nova_grounded_proposer.NovaGroundedProposer'>\n",
      "2025/07/02 20:20:07 INFO dspy.teleprompt.mipro_optimizer_v2: \n",
      "==> STEP 2: PROPOSE INSTRUCTION CANDIDATES <==\n",
      "2025/07/02 20:20:07 INFO dspy.teleprompt.mipro_optimizer_v2: We will use the few-shot examples from the previous step, a generated dataset summary, a summary of the program code, and a randomly selected prompting tip to propose instructions.\n",
      "2025/07/02 20:20:07 INFO amzn_nova_prompt_optimizer.core.optimizers.nova_prompt_optimizer.nova_grounded_proposer: Initializing NovaGroundedProposer\n"
     ]
    },
    {
     "name": "stdout",
     "output_type": "stream",
     "text": [
      "Bootstrapped 1 full traces after 1 examples for up to 1 rounds, amounting to 1 attempts.\n"
     ]
    },
    {
     "name": "stderr",
     "output_type": "stream",
     "text": [
      "2025/07/02 20:20:27 INFO dspy.teleprompt.mipro_optimizer_v2: \n",
      "Proposing N=20 instructions...\n",
      "\n"
     ]
    },
    {
     "name": "stdout",
     "output_type": "stream",
     "text": [
      "[Nova] Selected tip: persona\n",
      "[Nova] Selected tip: persona\n",
      "[Nova] Selected tip: multi_turn\n",
      "[Nova] Selected tip: multi_turn\n",
      "[Nova] Selected tip: multi_turn\n",
      "[Nova] Selected tip: multi_turn\n",
      "[Nova] Selected tip: simple\n",
      "[Nova] Selected tip: high_stakes\n",
      "[Nova] Selected tip: high_stakes\n",
      "[Nova] Selected tip: format_control\n",
      "[Nova] Selected tip: creative\n",
      "[Nova] Selected tip: rules_based\n",
      "[Nova] Selected tip: none\n",
      "[Nova] Selected tip: simple\n",
      "[Nova] Selected tip: multi_turn\n",
      "[Nova] Selected tip: simple\n",
      "[Nova] Selected tip: high_stakes\n",
      "[Nova] Selected tip: structured_prompt\n",
      "[Nova] Selected tip: simple\n",
      "[Nova] Selected tip: multi_turn\n"
     ]
    },
    {
     "name": "stderr",
     "output_type": "stream",
     "text": [
      "2025/07/02 20:22:48 INFO dspy.teleprompt.mipro_optimizer_v2: Proposed Instructions for Predictor 0:\n",
      "\n",
      "2025/07/02 20:22:48 INFO dspy.teleprompt.mipro_optimizer_v2: 0: Task: Extract and return a json with specified keys and values based on the input.\n",
      "\n",
      "Context:\n",
      "- The json must include \"urgency\", \"sentiment\", and \"categories\".\n",
      "- \"urgency\" can be `high`, `medium`, or `low`.\n",
      "- \"sentiment\" can be `negative`, `neutral`, or `positive`.\n",
      "- \"categories\" is a dictionary with boolean values indicating if the category matches the input.\n",
      "\n",
      "Instructions:\n",
      "- The json MUST be valid and readable directly.\n",
      "- DO NOT enclose the json in ```json...```.\n",
      "- DO NOT include newlines or unnecessary whitespaces.\n",
      "- Only include the keys mentioned: \"urgency\", \"sentiment\", and \"categories\".\n",
      "\n",
      "Any other section from Original Prompt:\n",
      "- The categories to consider are: `emergency_repair_services`, `routine_maintenance_requests`, `quality_and_safety_concerns`, `specialized_cleaning_services`, `general_inquiries`, `sustainability_and_environmental_practices`, `training_and_support_requests`, `cleaning_services_scheduling`, `customer_feedback_and_complaints`, `facility_management_issues`.\n",
      "\n",
      "Response Format:\n",
      "- The response MUST be a single-line valid json string.\n",
      "- The json MUST contain \"urgency\", \"sentiment\", and \"categories\" keys.\n",
      "\n",
      "2025/07/02 20:22:48 INFO dspy.teleprompt.mipro_optimizer_v2: 1: As a customer service analyst, analyze the provided email to determine its content and context. Extract and return a JSON object with \"urgency\", \"sentiment\", and \"categories\" keys. Ensure the JSON is valid, with \"urgency\" as `high`, `medium`, or `low`, \"sentiment\" as `negative`, `neutral`, or `positive`, and \"categories\" as a dictionary of booleans for predefined categories. Do not include any additional formatting or whitespace.\n",
      "\n",
      "2025/07/02 20:22:48 INFO dspy.teleprompt.mipro_optimizer_v2: 2: Given an email input, analyze the content to determine its sentiment, urgency, and relevant categories. Return a JSON object with \"urgency\" (high, medium, low), \"sentiment\" (negative, neutral, positive), and \"categories\" (boolean values for predefined categories). Ensure the JSON is valid, concise, and includes only the specified keys. If the email's intent is ambiguous, prioritize clarity by assigning the most likely category based on context.\n",
      "\n",
      "2025/07/02 20:22:48 INFO dspy.teleprompt.mipro_optimizer_v2: 3: Given the customer support email, analyze the content to determine the urgency, sentiment, and relevant categories. Return a JSON object with \"urgency\" (high, medium, low), \"sentiment\" (negative, neutral, positive), and \"categories\" (boolean values for predefined types). Ensure the JSON is valid, concise, and includes only the specified keys. If the email's intent is unclear, prioritize categories based on explicit mentions or implied needs.\n",
      "\n",
      "2025/07/02 20:22:48 INFO dspy.teleprompt.mipro_optimizer_v2: 4: Analyze the customer service inquiry and return a JSON object with \"urgency\" (high/medium/low), \"sentiment\" (negative/neutral/positive), and \"categories\" (boolean values for predefined topics). Use urgency indicators like \"immediate\" or \"critical\" for high urgency, and sentiment cues from language tone. Ensure all categories are evaluated based on content relevance.\n",
      "\n",
      "2025/07/02 20:22:48 INFO dspy.teleprompt.mipro_optimizer_v2: 5: Given a customer support email, analyze the content to determine the urgency, sentiment, and relevant categories. Return a JSON object with \"urgency\" (high/medium/low), \"sentiment\" (negative/neutral/positive), and a \"categories\" dictionary with boolean values for each category. Ensure the email is parsed for keywords related to maintenance, cleaning, training, and facility management issues. Use the email's tone to assess sentiment and urgency, prioritizing phrases like \"urgent\" or \"immediate\" for high urgency.\n",
      "\n",
      "2025/07/02 20:22:48 INFO dspy.teleprompt.mipro_optimizer_v2: 6: Analyze the input email to classify its content into predefined categories, determine sentiment, and assess urgency. Return a JSON object with \"urgency\" (high/medium/low), \"sentiment\" (negative/neutral/positive), and \"categories\" (boolean values for each category). Ensure the JSON is valid and concise.\n",
      "\n",
      "2025/07/02 20:22:48 INFO dspy.teleprompt.mipro_optimizer_v2: 7: Given the critical nature of customer service, accurately categorize the email, assess sentiment, and determine urgency. Incorrect categorization can lead to delayed responses, while misjudging sentiment or urgency may affect customer satisfaction. Ensure the output JSON is precise, with \"urgency\" (high, medium, low), \"sentiment\" (negative, neutral, positive), and \"categories\" as boolean values. Focus on the email's content to make informed decisions, especially for high-urgency or negative-sentiment cases.\n",
      "\n",
      "2025/07/02 20:22:48 INFO dspy.teleprompt.mipro_optimizer_v2: 8: Given the critical nature of customer service in maintaining client satisfaction and operational efficiency, your task is to analyze the provided email and generate a precise JSON output. This output will directly influence how quickly and appropriately we respond to customer needs. Ensure that you accurately determine the urgency, sentiment, and relevant categories for each email. Mistakes in categorization or misjudgment of urgency and sentiment could lead to delayed responses or inappropriate handling of customer issues. Pay close attention to the details and context provided in the email to make informed decisions.\n",
      "\n",
      "2025/07/02 20:22:48 INFO dspy.teleprompt.mipro_optimizer_v2: 9: Analyze the provided email and generate a JSON object with \"urgency\", \"sentiment\", and \"categories\" keys. \"urgency\" must be one of [\"high\", \"medium\", \"low\"], \"sentiment\" one of [\"negative\", \"neutral\", \"positive\"], and \"categories\" a dictionary mapping each of the following to a boolean: `emergency_repair_services`, `routine_maintenance_requests`, `quality_and_safety_concerns`, `specialized_cleaning_services`, `general_inquiries`, `sustainability_and_environmental_practices`, `training_and_support_requests`, `cleaning_services_scheduling`, `customer_feedback_and_complaints`, `facility_management_issues`. Ensure no extraneous whitespace and maintain valid JSON syntax.\n",
      "\n",
      "2025/07/02 20:22:48 INFO dspy.teleprompt.mipro_optimizer_v2: 10: Given an email, analyze its content to determine the urgency, sentiment, and relevant categories. Provide the output as a JSON object with \"urgency\" (high, medium, low), \"sentiment\" (negative, neutral, positive), and \"categories\" (boolean values for predefined types). Ensure the JSON is concise and valid, without extraneous formatting.\n",
      "\n",
      "2025/07/02 20:22:48 INFO dspy.teleprompt.mipro_optimizer_v2: 11: Analyze the customer service email to classify its content accurately. Return a JSON object with \"urgency\" (high/medium/low), \"sentiment\" (negative/neutral/positive), and \"categories\" (boolean flags for predefined types). Ensure compliance with data privacy standards by omitting personal identifiers. Follow the format strictly: `{\"urgency\": \"...\", \"sentiment\": \"...\", \"categories\": {\"...\": true/false, ...}}`.\n",
      "\n",
      "2025/07/02 20:22:48 INFO dspy.teleprompt.mipro_optimizer_v2: 12: Analyze the provided customer service email and generate a JSON object containing the following:\n",
      "\n",
      "1. **categories**: A dictionary where keys are predefined service categories (e.g., \"specialized_cleaning_services\", \"customer_feedback_and_complaints\") and values are booleans indicating relevance.\n",
      "2. **sentiment**: A string (\"positive\", \"neutral\", or \"negative\") reflecting the email's emotional tone.\n",
      "3. **urgency**: A string (\"high\", \"medium\", or \"low\") based on language cues.\n",
      "\n",
      "**Rules**:\n",
      "- Use only the categories: `emergency_repair_services`, `routine_maintenance_requests`, `quality_and_safety_concerns`, `specialized_cleaning_services`, `general_inquiries`, `sustainability_and_environmental_practices`, `training_and_support_requests`, `cleaning_services_scheduling`, `customer_feedback_and_complaints`, `facility_management_issues`.\n",
      "- Maintain valid JSON syntax without formatting.\n",
      "- Example: `{\"categories\": {\"complaint\": true}, \"sentiment\": \"negative\", \"urgency\": \"high\"}`\n",
      "\n",
      "2025/07/02 20:22:48 INFO dspy.teleprompt.mipro_optimizer_v2: 13: Analyze the input text to classify the urgency, sentiment, and relevant categories, then return a JSON object with \"urgency\", \"sentiment\", and \"categories\" keys. Ensure \"urgency\" is \"high\", \"medium\", or \"low\", \"sentiment\" is \"negative\", \"neutral\", or \"positive\", and \"categories\" contains boolean values for predefined categories.\n",
      "\n"
     ]
    },
    {
     "name": "stderr",
     "output_type": "stream",
     "text": [
      "2025/07/02 20:22:48 INFO dspy.teleprompt.mipro_optimizer_v2: 14: Given the input email, analyze its content to determine the urgency, sentiment, and relevant categories. Return a JSON object with \"urgency\" (high, medium, low), \"sentiment\" (negative, neutral, positive), and \"categories\" (boolean values for predefined types). Ensure the output is a valid, single-line JSON string without unnecessary whitespace. If the email's content is ambiguous, prioritize categories that best match explicit mentions of issues or requests.\n",
      "\n",
      "2025/07/02 20:22:48 INFO dspy.teleprompt.mipro_optimizer_v2: 15: Analyze the input email to classify the request. Return a JSON object with \"urgency\" (high/medium/low), \"sentiment\" (positive/neutral/negative), and \"categories\" (boolean values for predefined types). Ensure no extra keys or formatting.\n",
      "\n",
      "2025/07/02 20:22:48 INFO dspy.teleprompt.mipro_optimizer_v2: 16: Given the critical nature of customer service in maintaining client satisfaction and operational efficiency, your task is to analyze the provided email and accurately categorize its content, sentiment, and urgency. Misclassification can lead to delayed responses or inappropriate prioritization, impacting customer trust and service quality. Ensure that the JSON output strictly adheres to the required format, with precise categorization under \"categories\", accurate sentiment analysis (\"negative\", \"neutral\", \"positive\"), and correct urgency assessment (\"high\", \"medium\", \"low\"). The output must be a valid, single-line JSON string without any additional formatting or whitespace.\n",
      "\n",
      "2025/07/02 20:22:48 INFO dspy.teleprompt.mipro_optimizer_v2: 17: ## Task\n",
      "Analyze the given customer service email and extract relevant information to generate a structured JSON response.\n",
      "\n",
      "## Context\n",
      "- The input is a customer service email related to facility management.\n",
      "- The output must be a JSON object with \"urgency\", \"sentiment\", and \"categories\" keys.\n",
      "\n",
      "## Instructions\n",
      "1. **Identify Urgency**: Determine if the email requires `high`, `medium`, or `low` urgency based on keywords and context.\n",
      "2. **Evaluate Sentiment**: Assess the sentiment as `positive`, `neutral`, or `negative` by interpreting the tone and language used.\n",
      "3. **Categorize Request**: Match the email content to one or more predefined categories with boolean values.\n",
      "\n",
      "## Categories\n",
      "- emergency_repair_services\n",
      "- routine_maintenance_requests\n",
      "- quality_and_safety_concerns\n",
      "- specialized_cleaning_services\n",
      "- general_inquiries\n",
      "- sustainability_and_environmental_practices\n",
      "- training_and_support_requests\n",
      "- cleaning_services_scheduling\n",
      "- customer_feedback_and_complaints\n",
      "- facility_management_issues\n",
      "\n",
      "## Response Format\n",
      "- Return a single-line JSON string with \"urgency\", \"sentiment\", and \"categories\" keys.\n",
      "\n",
      "Example:\n",
      "```json\n",
      "{\"urgency\": \"high\", \"sentiment\": \"negative\", \"categories\": {\"emergency_repair_services\": true, \"general_inquiries\": false}}\n",
      "```\n",
      "\n",
      "2025/07/02 20:22:48 INFO dspy.teleprompt.mipro_optimizer_v2: 18: Analyze the input email to classify its content. Return a JSON object with \"urgency\" (high/medium/low), \"sentiment\" (negative/neutral/positive), and \"categories\" (boolean values for predefined types like maintenance or cleaning). Ensure the JSON is valid and concise.\n",
      "\n",
      "2025/07/02 20:22:48 INFO dspy.teleprompt.mipro_optimizer_v2: 19: Given a customer service email, analyze its content to determine the urgency, sentiment, and relevant categories. Return a JSON object with \"urgency\" (high/medium/low), \"sentiment\" (negative/neutral/positive), and a \"categories\" dictionary indicating true/false for each predefined category. Ensure the JSON is valid and concise, without unnecessary formatting. If the email contains ambiguous phrasing, prioritize the most likely interpretation based on context.\n",
      "\n",
      "2025/07/02 20:22:48 INFO dspy.teleprompt.mipro_optimizer_v2: \n",
      "\n",
      "2025/07/02 20:22:48 INFO amzn_nova_prompt_optimizer.core.optimizers.miprov2.miprov2_optimizer: Restored GroundedProposer, current GroundedProposer class=<class 'dspy.propose.grounded_proposer.GroundedProposer'>\n",
      "2025/07/02 20:22:48 INFO amzn_nova_prompt_optimizer.core.optimizers.miprov2.custom_adapters.custom_chat_adapter: Initializing CustomChatAdapter with enable_json_fallback=False\n",
      "2025/07/02 20:22:49 INFO dspy.teleprompt.mipro_optimizer_v2: ==> STEP 3: FINDING OPTIMAL PROMPT PARAMETERS <==\n",
      "2025/07/02 20:22:49 INFO dspy.teleprompt.mipro_optimizer_v2: We will evaluate the program over a series of trials with different combinations of instructions and few-shot examples to find the optimal combination using Bayesian Optimization.\n",
      "\n",
      "2025/07/02 20:22:49 INFO dspy.teleprompt.mipro_optimizer_v2: == Trial 1 / 37 - Full Evaluation of Default Program ==\n"
     ]
    },
    {
     "name": "stdout",
     "output_type": "stream",
     "text": [
      "Average Metric: 35.20 / 50 (70.4%): 100%|███████████████████████████████████████████████████████████| 50/50 [00:28<00:00,  1.75it/s]"
     ]
    },
    {
     "name": "stderr",
     "output_type": "stream",
     "text": [
      "2025/07/02 20:23:17 INFO dspy.evaluate.evaluate: Average Metric: 35.199999999999996 / 50 (70.4%)\n",
      "2025/07/02 20:23:17 INFO dspy.teleprompt.mipro_optimizer_v2: Default program score: 70.4\n",
      "\n",
      "/local/home/shenov/workplace/NovaPromptOptimizer/src/NovaPromptOptimizer/samples/facility-support-analyzer/.venv/lib/python3.12/site-packages/optuna/_experimental.py:32: ExperimentalWarning: Argument ``multivariate`` is an experimental feature. The interface can change in the future.\n",
      "  warnings.warn(\n",
      "2025/07/02 20:23:17 INFO dspy.teleprompt.mipro_optimizer_v2: == Trial 2 / 37 - Minibatch ==\n"
     ]
    },
    {
     "name": "stdout",
     "output_type": "stream",
     "text": [
      "\n",
      "Average Metric: 25.33 / 35 (72.4%): 100%|███████████████████████████████████████████████████████████| 35/35 [00:25<00:00,  1.35it/s]"
     ]
    },
    {
     "name": "stderr",
     "output_type": "stream",
     "text": [
      "2025/07/02 20:23:43 INFO dspy.evaluate.evaluate: Average Metric: 25.333333333333332 / 35 (72.4%)\n",
      "2025/07/02 20:23:43 INFO dspy.teleprompt.mipro_optimizer_v2: Score: 72.38 on minibatch of size 35 with parameters ['Predictor 0: Instruction 12', 'Predictor 0: Few-Shot Set 6'].\n",
      "2025/07/02 20:23:43 INFO dspy.teleprompt.mipro_optimizer_v2: Minibatch scores so far: [72.38]\n",
      "2025/07/02 20:23:43 INFO dspy.teleprompt.mipro_optimizer_v2: Full eval scores so far: [70.4]\n",
      "2025/07/02 20:23:43 INFO dspy.teleprompt.mipro_optimizer_v2: Best full score so far: 70.4\n",
      "2025/07/02 20:23:43 INFO dspy.teleprompt.mipro_optimizer_v2: =========================================\n",
      "\n",
      "\n",
      "2025/07/02 20:23:43 INFO dspy.teleprompt.mipro_optimizer_v2: == Trial 3 / 37 - Minibatch ==\n"
     ]
    },
    {
     "name": "stdout",
     "output_type": "stream",
     "text": [
      "\n",
      "Average Metric: 24.03 / 35 (68.7%): 100%|███████████████████████████████████████████████████████████| 35/35 [00:23<00:00,  1.48it/s]"
     ]
    },
    {
     "name": "stderr",
     "output_type": "stream",
     "text": [
      "2025/07/02 20:24:07 INFO dspy.evaluate.evaluate: Average Metric: 24.03333333333333 / 35 (68.7%)\n",
      "2025/07/02 20:24:07 INFO dspy.teleprompt.mipro_optimizer_v2: Score: 68.67 on minibatch of size 35 with parameters ['Predictor 0: Instruction 8', 'Predictor 0: Few-Shot Set 4'].\n",
      "2025/07/02 20:24:07 INFO dspy.teleprompt.mipro_optimizer_v2: Minibatch scores so far: [72.38, 68.67]\n",
      "2025/07/02 20:24:07 INFO dspy.teleprompt.mipro_optimizer_v2: Full eval scores so far: [70.4]\n",
      "2025/07/02 20:24:07 INFO dspy.teleprompt.mipro_optimizer_v2: Best full score so far: 70.4\n",
      "2025/07/02 20:24:07 INFO dspy.teleprompt.mipro_optimizer_v2: =========================================\n",
      "\n",
      "\n",
      "2025/07/02 20:24:07 INFO dspy.teleprompt.mipro_optimizer_v2: == Trial 4 / 37 - Minibatch ==\n"
     ]
    },
    {
     "name": "stdout",
     "output_type": "stream",
     "text": [
      "\n",
      "Average Metric: 25.13 / 35 (71.8%): 100%|███████████████████████████████████████████████████████████| 35/35 [00:27<00:00,  1.27it/s]"
     ]
    },
    {
     "name": "stderr",
     "output_type": "stream",
     "text": [
      "2025/07/02 20:24:34 INFO dspy.evaluate.evaluate: Average Metric: 25.133333333333333 / 35 (71.8%)\n",
      "2025/07/02 20:24:34 INFO dspy.teleprompt.mipro_optimizer_v2: Score: 71.81 on minibatch of size 35 with parameters ['Predictor 0: Instruction 3', 'Predictor 0: Few-Shot Set 13'].\n",
      "2025/07/02 20:24:34 INFO dspy.teleprompt.mipro_optimizer_v2: Minibatch scores so far: [72.38, 68.67, 71.81]\n",
      "2025/07/02 20:24:34 INFO dspy.teleprompt.mipro_optimizer_v2: Full eval scores so far: [70.4]\n",
      "2025/07/02 20:24:34 INFO dspy.teleprompt.mipro_optimizer_v2: Best full score so far: 70.4\n",
      "2025/07/02 20:24:34 INFO dspy.teleprompt.mipro_optimizer_v2: =========================================\n",
      "\n",
      "\n",
      "2025/07/02 20:24:34 INFO dspy.teleprompt.mipro_optimizer_v2: == Trial 5 / 37 - Minibatch ==\n"
     ]
    },
    {
     "name": "stdout",
     "output_type": "stream",
     "text": [
      "\n",
      "Average Metric: 23.70 / 35 (67.7%): 100%|███████████████████████████████████████████████████████████| 35/35 [00:26<00:00,  1.35it/s]"
     ]
    },
    {
     "name": "stderr",
     "output_type": "stream",
     "text": [
      "2025/07/02 20:25:00 INFO dspy.evaluate.evaluate: Average Metric: 23.7 / 35 (67.7%)\n",
      "2025/07/02 20:25:00 INFO dspy.teleprompt.mipro_optimizer_v2: Score: 67.71 on minibatch of size 35 with parameters ['Predictor 0: Instruction 9', 'Predictor 0: Few-Shot Set 7'].\n",
      "2025/07/02 20:25:00 INFO dspy.teleprompt.mipro_optimizer_v2: Minibatch scores so far: [72.38, 68.67, 71.81, 67.71]\n",
      "2025/07/02 20:25:00 INFO dspy.teleprompt.mipro_optimizer_v2: Full eval scores so far: [70.4]\n",
      "2025/07/02 20:25:00 INFO dspy.teleprompt.mipro_optimizer_v2: Best full score so far: 70.4\n",
      "2025/07/02 20:25:00 INFO dspy.teleprompt.mipro_optimizer_v2: =========================================\n",
      "\n",
      "\n",
      "2025/07/02 20:25:00 INFO dspy.teleprompt.mipro_optimizer_v2: == Trial 6 / 37 - Minibatch ==\n"
     ]
    },
    {
     "name": "stdout",
     "output_type": "stream",
     "text": [
      "\n",
      "Average Metric: 22.80 / 35 (65.1%): 100%|███████████████████████████████████████████████████████████| 35/35 [00:24<00:00,  1.40it/s]"
     ]
    },
    {
     "name": "stderr",
     "output_type": "stream",
     "text": [
      "2025/07/02 20:25:25 INFO dspy.evaluate.evaluate: Average Metric: 22.8 / 35 (65.1%)\n",
      "2025/07/02 20:25:25 INFO dspy.teleprompt.mipro_optimizer_v2: Score: 65.14 on minibatch of size 35 with parameters ['Predictor 0: Instruction 0', 'Predictor 0: Few-Shot Set 9'].\n",
      "2025/07/02 20:25:25 INFO dspy.teleprompt.mipro_optimizer_v2: Minibatch scores so far: [72.38, 68.67, 71.81, 67.71, 65.14]\n",
      "2025/07/02 20:25:25 INFO dspy.teleprompt.mipro_optimizer_v2: Full eval scores so far: [70.4]\n",
      "2025/07/02 20:25:25 INFO dspy.teleprompt.mipro_optimizer_v2: Best full score so far: 70.4\n",
      "2025/07/02 20:25:25 INFO dspy.teleprompt.mipro_optimizer_v2: =========================================\n",
      "\n",
      "\n",
      "2025/07/02 20:25:25 INFO dspy.teleprompt.mipro_optimizer_v2: ===== Trial 7 / 37 - Full Evaluation =====\n",
      "2025/07/02 20:25:25 INFO dspy.teleprompt.mipro_optimizer_v2: Doing full eval on next top averaging program (Avg Score: 72.38) from minibatch trials...\n"
     ]
    },
    {
     "name": "stdout",
     "output_type": "stream",
     "text": [
      "\n",
      "Average Metric: 36.60 / 50 (73.2%): 100%|███████████████████████████████████████████████████████████| 50/50 [00:11<00:00,  4.36it/s]"
     ]
    },
    {
     "name": "stderr",
     "output_type": "stream",
     "text": [
      "2025/07/02 20:25:37 INFO dspy.evaluate.evaluate: Average Metric: 36.6 / 50 (73.2%)\n",
      "2025/07/02 20:25:37 INFO dspy.teleprompt.mipro_optimizer_v2: \u001b[92mNew best full eval score!\u001b[0m Score: 73.2\n",
      "2025/07/02 20:25:37 INFO dspy.teleprompt.mipro_optimizer_v2: Full eval scores so far: [70.4, 73.2]\n",
      "2025/07/02 20:25:37 INFO dspy.teleprompt.mipro_optimizer_v2: Best full score so far: 73.2\n",
      "2025/07/02 20:25:37 INFO dspy.teleprompt.mipro_optimizer_v2: =======================\n",
      "2025/07/02 20:25:37 INFO dspy.teleprompt.mipro_optimizer_v2: \n",
      "\n",
      "2025/07/02 20:25:37 INFO dspy.teleprompt.mipro_optimizer_v2: == Trial 8 / 37 - Minibatch ==\n"
     ]
    },
    {
     "name": "stdout",
     "output_type": "stream",
     "text": [
      "\n",
      "Average Metric: 24.67 / 35 (70.5%): 100%|███████████████████████████████████████████████████████████| 35/35 [00:24<00:00,  1.44it/s]"
     ]
    },
    {
     "name": "stderr",
     "output_type": "stream",
     "text": [
      "2025/07/02 20:26:01 INFO dspy.evaluate.evaluate: Average Metric: 24.666666666666664 / 35 (70.5%)\n",
      "2025/07/02 20:26:01 INFO dspy.teleprompt.mipro_optimizer_v2: Score: 70.48 on minibatch of size 35 with parameters ['Predictor 0: Instruction 10', 'Predictor 0: Few-Shot Set 15'].\n",
      "2025/07/02 20:26:01 INFO dspy.teleprompt.mipro_optimizer_v2: Minibatch scores so far: [72.38, 68.67, 71.81, 67.71, 65.14, 70.48]\n",
      "2025/07/02 20:26:01 INFO dspy.teleprompt.mipro_optimizer_v2: Full eval scores so far: [70.4, 73.2]\n",
      "2025/07/02 20:26:01 INFO dspy.teleprompt.mipro_optimizer_v2: Best full score so far: 73.2\n",
      "2025/07/02 20:26:01 INFO dspy.teleprompt.mipro_optimizer_v2: =========================================\n",
      "\n",
      "\n",
      "2025/07/02 20:26:01 INFO dspy.teleprompt.mipro_optimizer_v2: == Trial 9 / 37 - Minibatch ==\n"
     ]
    },
    {
     "name": "stdout",
     "output_type": "stream",
     "text": [
      "\n",
      "Average Metric: 25.37 / 35 (72.5%): 100%|███████████████████████████████████████████████████████████| 35/35 [00:28<00:00,  1.23it/s]"
     ]
    },
    {
     "name": "stderr",
     "output_type": "stream",
     "text": [
      "2025/07/02 20:26:29 INFO dspy.evaluate.evaluate: Average Metric: 25.366666666666667 / 35 (72.5%)\n",
      "2025/07/02 20:26:29 INFO dspy.teleprompt.mipro_optimizer_v2: Score: 72.48 on minibatch of size 35 with parameters ['Predictor 0: Instruction 6', 'Predictor 0: Few-Shot Set 17'].\n",
      "2025/07/02 20:26:29 INFO dspy.teleprompt.mipro_optimizer_v2: Minibatch scores so far: [72.38, 68.67, 71.81, 67.71, 65.14, 70.48, 72.48]\n",
      "2025/07/02 20:26:29 INFO dspy.teleprompt.mipro_optimizer_v2: Full eval scores so far: [70.4, 73.2]\n",
      "2025/07/02 20:26:29 INFO dspy.teleprompt.mipro_optimizer_v2: Best full score so far: 73.2\n",
      "2025/07/02 20:26:29 INFO dspy.teleprompt.mipro_optimizer_v2: =========================================\n",
      "\n",
      "\n",
      "2025/07/02 20:26:29 INFO dspy.teleprompt.mipro_optimizer_v2: == Trial 10 / 37 - Minibatch ==\n"
     ]
    },
    {
     "name": "stdout",
     "output_type": "stream",
     "text": [
      "\n",
      "Average Metric: 23.23 / 35 (66.4%): 100%|███████████████████████████████████████████████████████████| 35/35 [00:24<00:00,  1.46it/s]"
     ]
    },
    {
     "name": "stderr",
     "output_type": "stream",
     "text": [
      "2025/07/02 20:26:53 INFO dspy.evaluate.evaluate: Average Metric: 23.233333333333334 / 35 (66.4%)\n",
      "2025/07/02 20:26:53 INFO dspy.teleprompt.mipro_optimizer_v2: Score: 66.38 on minibatch of size 35 with parameters ['Predictor 0: Instruction 18', 'Predictor 0: Few-Shot Set 9'].\n",
      "2025/07/02 20:26:53 INFO dspy.teleprompt.mipro_optimizer_v2: Minibatch scores so far: [72.38, 68.67, 71.81, 67.71, 65.14, 70.48, 72.48, 66.38]\n",
      "2025/07/02 20:26:53 INFO dspy.teleprompt.mipro_optimizer_v2: Full eval scores so far: [70.4, 73.2]\n",
      "2025/07/02 20:26:53 INFO dspy.teleprompt.mipro_optimizer_v2: Best full score so far: 73.2\n",
      "2025/07/02 20:26:53 INFO dspy.teleprompt.mipro_optimizer_v2: ==========================================\n",
      "\n",
      "\n",
      "2025/07/02 20:26:53 INFO dspy.teleprompt.mipro_optimizer_v2: == Trial 11 / 37 - Minibatch ==\n"
     ]
    },
    {
     "name": "stdout",
     "output_type": "stream",
     "text": [
      "\n",
      "Average Metric: 25.13 / 35 (71.8%): 100%|███████████████████████████████████████████████████████████| 35/35 [00:23<00:00,  1.46it/s]"
     ]
    },
    {
     "name": "stderr",
     "output_type": "stream",
     "text": [
      "2025/07/02 20:27:17 INFO dspy.evaluate.evaluate: Average Metric: 25.133333333333333 / 35 (71.8%)\n",
      "2025/07/02 20:27:18 INFO dspy.teleprompt.mipro_optimizer_v2: Score: 71.81 on minibatch of size 35 with parameters ['Predictor 0: Instruction 12', 'Predictor 0: Few-Shot Set 19'].\n",
      "2025/07/02 20:27:18 INFO dspy.teleprompt.mipro_optimizer_v2: Minibatch scores so far: [72.38, 68.67, 71.81, 67.71, 65.14, 70.48, 72.48, 66.38, 71.81]\n",
      "2025/07/02 20:27:18 INFO dspy.teleprompt.mipro_optimizer_v2: Full eval scores so far: [70.4, 73.2]\n",
      "2025/07/02 20:27:18 INFO dspy.teleprompt.mipro_optimizer_v2: Best full score so far: 73.2\n",
      "2025/07/02 20:27:18 INFO dspy.teleprompt.mipro_optimizer_v2: ==========================================\n",
      "\n",
      "\n",
      "2025/07/02 20:27:18 INFO dspy.teleprompt.mipro_optimizer_v2: == Trial 12 / 37 - Minibatch ==\n"
     ]
    },
    {
     "name": "stdout",
     "output_type": "stream",
     "text": [
      "\n",
      "Average Metric: 25.17 / 35 (71.9%): 100%|███████████████████████████████████████████████████████████| 35/35 [00:26<00:00,  1.34it/s]"
     ]
    },
    {
     "name": "stderr",
     "output_type": "stream",
     "text": [
      "2025/07/02 20:27:44 INFO dspy.evaluate.evaluate: Average Metric: 25.166666666666668 / 35 (71.9%)\n",
      "2025/07/02 20:27:44 INFO dspy.teleprompt.mipro_optimizer_v2: Score: 71.9 on minibatch of size 35 with parameters ['Predictor 0: Instruction 6', 'Predictor 0: Few-Shot Set 10'].\n",
      "2025/07/02 20:27:44 INFO dspy.teleprompt.mipro_optimizer_v2: Minibatch scores so far: [72.38, 68.67, 71.81, 67.71, 65.14, 70.48, 72.48, 66.38, 71.81, 71.9]\n",
      "2025/07/02 20:27:44 INFO dspy.teleprompt.mipro_optimizer_v2: Full eval scores so far: [70.4, 73.2]\n",
      "2025/07/02 20:27:44 INFO dspy.teleprompt.mipro_optimizer_v2: Best full score so far: 73.2\n",
      "2025/07/02 20:27:44 INFO dspy.teleprompt.mipro_optimizer_v2: ==========================================\n",
      "\n",
      "\n",
      "2025/07/02 20:27:44 INFO dspy.teleprompt.mipro_optimizer_v2: ===== Trial 13 / 37 - Full Evaluation =====\n",
      "2025/07/02 20:27:44 INFO dspy.teleprompt.mipro_optimizer_v2: Doing full eval on next top averaging program (Avg Score: 72.48) from minibatch trials...\n"
     ]
    },
    {
     "name": "stdout",
     "output_type": "stream",
     "text": [
      "\n",
      "Average Metric: 35.53 / 50 (71.1%): 100%|███████████████████████████████████████████████████████████| 50/50 [00:10<00:00,  4.75it/s]"
     ]
    },
    {
     "name": "stderr",
     "output_type": "stream",
     "text": [
      "2025/07/02 20:27:54 INFO dspy.evaluate.evaluate: Average Metric: 35.53333333333333 / 50 (71.1%)\n",
      "2025/07/02 20:27:54 INFO dspy.teleprompt.mipro_optimizer_v2: Full eval scores so far: [70.4, 73.2, 71.07]\n",
      "2025/07/02 20:27:54 INFO dspy.teleprompt.mipro_optimizer_v2: Best full score so far: 73.2\n",
      "2025/07/02 20:27:54 INFO dspy.teleprompt.mipro_optimizer_v2: =======================\n",
      "2025/07/02 20:27:54 INFO dspy.teleprompt.mipro_optimizer_v2: \n",
      "\n",
      "2025/07/02 20:27:54 INFO dspy.teleprompt.mipro_optimizer_v2: == Trial 14 / 37 - Minibatch ==\n"
     ]
    },
    {
     "name": "stdout",
     "output_type": "stream",
     "text": [
      "\n",
      "Average Metric: 24.43 / 35 (69.8%): 100%|███████████████████████████████████████████████████████████| 35/35 [00:27<00:00,  1.29it/s]"
     ]
    },
    {
     "name": "stderr",
     "output_type": "stream",
     "text": [
      "2025/07/02 20:28:21 INFO dspy.evaluate.evaluate: Average Metric: 24.433333333333334 / 35 (69.8%)\n",
      "2025/07/02 20:28:21 INFO dspy.teleprompt.mipro_optimizer_v2: Score: 69.81 on minibatch of size 35 with parameters ['Predictor 0: Instruction 13', 'Predictor 0: Few-Shot Set 12'].\n",
      "2025/07/02 20:28:21 INFO dspy.teleprompt.mipro_optimizer_v2: Minibatch scores so far: [72.38, 68.67, 71.81, 67.71, 65.14, 70.48, 72.48, 66.38, 71.81, 71.9, 69.81]\n",
      "2025/07/02 20:28:21 INFO dspy.teleprompt.mipro_optimizer_v2: Full eval scores so far: [70.4, 73.2, 71.07]\n",
      "2025/07/02 20:28:21 INFO dspy.teleprompt.mipro_optimizer_v2: Best full score so far: 73.2\n",
      "2025/07/02 20:28:21 INFO dspy.teleprompt.mipro_optimizer_v2: ==========================================\n",
      "\n",
      "\n",
      "2025/07/02 20:28:21 INFO dspy.teleprompt.mipro_optimizer_v2: == Trial 15 / 37 - Minibatch ==\n"
     ]
    },
    {
     "name": "stdout",
     "output_type": "stream",
     "text": [
      "\n",
      "Average Metric: 24.37 / 35 (69.6%): 100%|███████████████████████████████████████████████████████████| 35/35 [00:26<00:00,  1.31it/s]"
     ]
    },
    {
     "name": "stderr",
     "output_type": "stream",
     "text": [
      "2025/07/02 20:28:48 INFO dspy.evaluate.evaluate: Average Metric: 24.366666666666667 / 35 (69.6%)\n",
      "2025/07/02 20:28:48 INFO dspy.teleprompt.mipro_optimizer_v2: Score: 69.62 on minibatch of size 35 with parameters ['Predictor 0: Instruction 5', 'Predictor 0: Few-Shot Set 17'].\n",
      "2025/07/02 20:28:48 INFO dspy.teleprompt.mipro_optimizer_v2: Minibatch scores so far: [72.38, 68.67, 71.81, 67.71, 65.14, 70.48, 72.48, 66.38, 71.81, 71.9, 69.81, 69.62]\n",
      "2025/07/02 20:28:48 INFO dspy.teleprompt.mipro_optimizer_v2: Full eval scores so far: [70.4, 73.2, 71.07]\n",
      "2025/07/02 20:28:48 INFO dspy.teleprompt.mipro_optimizer_v2: Best full score so far: 73.2\n",
      "2025/07/02 20:28:48 INFO dspy.teleprompt.mipro_optimizer_v2: ==========================================\n",
      "\n",
      "\n",
      "2025/07/02 20:28:48 INFO dspy.teleprompt.mipro_optimizer_v2: == Trial 16 / 37 - Minibatch ==\n"
     ]
    },
    {
     "name": "stdout",
     "output_type": "stream",
     "text": [
      "\n",
      "Average Metric: 22.70 / 35 (64.9%): 100%|███████████████████████████████████████████████████████████| 35/35 [00:25<00:00,  1.36it/s]"
     ]
    },
    {
     "name": "stderr",
     "output_type": "stream",
     "text": [
      "2025/07/02 20:29:14 INFO dspy.evaluate.evaluate: Average Metric: 22.7 / 35 (64.9%)\n",
      "2025/07/02 20:29:14 INFO dspy.teleprompt.mipro_optimizer_v2: Score: 64.86 on minibatch of size 35 with parameters ['Predictor 0: Instruction 12', 'Predictor 0: Few-Shot Set 12'].\n",
      "2025/07/02 20:29:14 INFO dspy.teleprompt.mipro_optimizer_v2: Minibatch scores so far: [72.38, 68.67, 71.81, 67.71, 65.14, 70.48, 72.48, 66.38, 71.81, 71.9, 69.81, 69.62, 64.86]\n",
      "2025/07/02 20:29:14 INFO dspy.teleprompt.mipro_optimizer_v2: Full eval scores so far: [70.4, 73.2, 71.07]\n",
      "2025/07/02 20:29:14 INFO dspy.teleprompt.mipro_optimizer_v2: Best full score so far: 73.2\n",
      "2025/07/02 20:29:14 INFO dspy.teleprompt.mipro_optimizer_v2: ==========================================\n",
      "\n",
      "\n",
      "2025/07/02 20:29:14 INFO dspy.teleprompt.mipro_optimizer_v2: == Trial 17 / 37 - Minibatch ==\n"
     ]
    },
    {
     "name": "stdout",
     "output_type": "stream",
     "text": [
      "\n",
      "Average Metric: 22.97 / 35 (65.6%): 100%|███████████████████████████████████████████████████████████| 35/35 [00:25<00:00,  1.38it/s]"
     ]
    },
    {
     "name": "stderr",
     "output_type": "stream",
     "text": [
      "2025/07/02 20:29:39 INFO dspy.evaluate.evaluate: Average Metric: 22.966666666666665 / 35 (65.6%)\n",
      "2025/07/02 20:29:39 INFO dspy.teleprompt.mipro_optimizer_v2: Score: 65.62 on minibatch of size 35 with parameters ['Predictor 0: Instruction 15', 'Predictor 0: Few-Shot Set 16'].\n",
      "2025/07/02 20:29:39 INFO dspy.teleprompt.mipro_optimizer_v2: Minibatch scores so far: [72.38, 68.67, 71.81, 67.71, 65.14, 70.48, 72.48, 66.38, 71.81, 71.9, 69.81, 69.62, 64.86, 65.62]\n",
      "2025/07/02 20:29:39 INFO dspy.teleprompt.mipro_optimizer_v2: Full eval scores so far: [70.4, 73.2, 71.07]\n",
      "2025/07/02 20:29:39 INFO dspy.teleprompt.mipro_optimizer_v2: Best full score so far: 73.2\n",
      "2025/07/02 20:29:39 INFO dspy.teleprompt.mipro_optimizer_v2: ==========================================\n",
      "\n",
      "\n",
      "2025/07/02 20:29:39 INFO dspy.teleprompt.mipro_optimizer_v2: == Trial 18 / 37 - Minibatch ==\n"
     ]
    },
    {
     "name": "stdout",
     "output_type": "stream",
     "text": [
      "\n",
      "Average Metric: 26.17 / 35 (74.8%): 100%|█████████████████████████████████████████████████████████| 35/35 [00:00<00:00, 2602.71it/s]"
     ]
    },
    {
     "name": "stderr",
     "output_type": "stream",
     "text": [
      "2025/07/02 20:29:39 INFO dspy.evaluate.evaluate: Average Metric: 26.166666666666668 / 35 (74.8%)\n",
      "2025/07/02 20:29:39 INFO dspy.teleprompt.mipro_optimizer_v2: Score: 74.76 on minibatch of size 35 with parameters ['Predictor 0: Instruction 6', 'Predictor 0: Few-Shot Set 17'].\n",
      "2025/07/02 20:29:39 INFO dspy.teleprompt.mipro_optimizer_v2: Minibatch scores so far: [72.38, 68.67, 71.81, 67.71, 65.14, 70.48, 72.48, 66.38, 71.81, 71.9, 69.81, 69.62, 64.86, 65.62, 74.76]\n",
      "2025/07/02 20:29:39 INFO dspy.teleprompt.mipro_optimizer_v2: Full eval scores so far: [70.4, 73.2, 71.07]\n",
      "2025/07/02 20:29:39 INFO dspy.teleprompt.mipro_optimizer_v2: Best full score so far: 73.2\n",
      "2025/07/02 20:29:39 INFO dspy.teleprompt.mipro_optimizer_v2: ==========================================\n",
      "\n",
      "\n",
      "2025/07/02 20:29:39 INFO dspy.teleprompt.mipro_optimizer_v2: ===== Trial 19 / 37 - Full Evaluation =====\n",
      "2025/07/02 20:29:39 INFO dspy.teleprompt.mipro_optimizer_v2: Doing full eval on next top averaging program (Avg Score: 71.9) from minibatch trials...\n"
     ]
    },
    {
     "name": "stdout",
     "output_type": "stream",
     "text": [
      "\n",
      "Average Metric: 36.83 / 50 (73.7%): 100%|███████████████████████████████████████████████████████████| 50/50 [00:13<00:00,  3.72it/s]"
     ]
    },
    {
     "name": "stderr",
     "output_type": "stream",
     "text": [
      "2025/07/02 20:29:53 INFO dspy.evaluate.evaluate: Average Metric: 36.833333333333336 / 50 (73.7%)\n",
      "2025/07/02 20:29:53 INFO dspy.teleprompt.mipro_optimizer_v2: \u001b[92mNew best full eval score!\u001b[0m Score: 73.67\n",
      "2025/07/02 20:29:53 INFO dspy.teleprompt.mipro_optimizer_v2: Full eval scores so far: [70.4, 73.2, 71.07, 73.67]\n",
      "2025/07/02 20:29:53 INFO dspy.teleprompt.mipro_optimizer_v2: Best full score so far: 73.67\n",
      "2025/07/02 20:29:53 INFO dspy.teleprompt.mipro_optimizer_v2: =======================\n",
      "2025/07/02 20:29:53 INFO dspy.teleprompt.mipro_optimizer_v2: \n",
      "\n",
      "2025/07/02 20:29:53 INFO dspy.teleprompt.mipro_optimizer_v2: == Trial 20 / 37 - Minibatch ==\n"
     ]
    },
    {
     "name": "stdout",
     "output_type": "stream",
     "text": [
      "\n",
      "Average Metric: 24.67 / 35 (70.5%): 100%|███████████████████████████████████████████████████████████| 35/35 [00:26<00:00,  1.34it/s]"
     ]
    },
    {
     "name": "stderr",
     "output_type": "stream",
     "text": [
      "2025/07/02 20:30:19 INFO dspy.evaluate.evaluate: Average Metric: 24.666666666666664 / 35 (70.5%)\n",
      "2025/07/02 20:30:19 INFO dspy.teleprompt.mipro_optimizer_v2: Score: 70.48 on minibatch of size 35 with parameters ['Predictor 0: Instruction 17', 'Predictor 0: Few-Shot Set 1'].\n",
      "2025/07/02 20:30:19 INFO dspy.teleprompt.mipro_optimizer_v2: Minibatch scores so far: [72.38, 68.67, 71.81, 67.71, 65.14, 70.48, 72.48, 66.38, 71.81, 71.9, 69.81, 69.62, 64.86, 65.62, 74.76, 70.48]\n",
      "2025/07/02 20:30:19 INFO dspy.teleprompt.mipro_optimizer_v2: Full eval scores so far: [70.4, 73.2, 71.07, 73.67]\n",
      "2025/07/02 20:30:19 INFO dspy.teleprompt.mipro_optimizer_v2: Best full score so far: 73.67\n",
      "2025/07/02 20:30:19 INFO dspy.teleprompt.mipro_optimizer_v2: ==========================================\n",
      "\n",
      "\n",
      "2025/07/02 20:30:19 INFO dspy.teleprompt.mipro_optimizer_v2: == Trial 21 / 37 - Minibatch ==\n"
     ]
    },
    {
     "name": "stdout",
     "output_type": "stream",
     "text": [
      "\n",
      "Average Metric: 24.90 / 35 (71.1%): 100%|███████████████████████████████████████████████████████████| 35/35 [00:27<00:00,  1.25it/s]"
     ]
    },
    {
     "name": "stderr",
     "output_type": "stream",
     "text": [
      "2025/07/02 20:30:47 INFO dspy.evaluate.evaluate: Average Metric: 24.9 / 35 (71.1%)\n",
      "2025/07/02 20:30:47 INFO dspy.teleprompt.mipro_optimizer_v2: Score: 71.14 on minibatch of size 35 with parameters ['Predictor 0: Instruction 19', 'Predictor 0: Few-Shot Set 3'].\n",
      "2025/07/02 20:30:47 INFO dspy.teleprompt.mipro_optimizer_v2: Minibatch scores so far: [72.38, 68.67, 71.81, 67.71, 65.14, 70.48, 72.48, 66.38, 71.81, 71.9, 69.81, 69.62, 64.86, 65.62, 74.76, 70.48, 71.14]\n",
      "2025/07/02 20:30:47 INFO dspy.teleprompt.mipro_optimizer_v2: Full eval scores so far: [70.4, 73.2, 71.07, 73.67]\n",
      "2025/07/02 20:30:47 INFO dspy.teleprompt.mipro_optimizer_v2: Best full score so far: 73.67\n",
      "2025/07/02 20:30:47 INFO dspy.teleprompt.mipro_optimizer_v2: ==========================================\n",
      "\n",
      "\n",
      "2025/07/02 20:30:47 INFO dspy.teleprompt.mipro_optimizer_v2: == Trial 22 / 37 - Minibatch ==\n"
     ]
    },
    {
     "name": "stdout",
     "output_type": "stream",
     "text": [
      "\n",
      "Average Metric: 26.87 / 35 (76.8%): 100%|███████████████████████████████████████████████████████████| 35/35 [00:50<00:00,  1.46s/it]"
     ]
    },
    {
     "name": "stderr",
     "output_type": "stream",
     "text": [
      "2025/07/02 20:31:38 INFO dspy.evaluate.evaluate: Average Metric: 26.866666666666667 / 35 (76.8%)\n",
      "2025/07/02 20:31:38 INFO dspy.teleprompt.mipro_optimizer_v2: Score: 76.76 on minibatch of size 35 with parameters ['Predictor 0: Instruction 11', 'Predictor 0: Few-Shot Set 5'].\n",
      "2025/07/02 20:31:38 INFO dspy.teleprompt.mipro_optimizer_v2: Minibatch scores so far: [72.38, 68.67, 71.81, 67.71, 65.14, 70.48, 72.48, 66.38, 71.81, 71.9, 69.81, 69.62, 64.86, 65.62, 74.76, 70.48, 71.14, 76.76]\n",
      "2025/07/02 20:31:38 INFO dspy.teleprompt.mipro_optimizer_v2: Full eval scores so far: [70.4, 73.2, 71.07, 73.67]\n",
      "2025/07/02 20:31:38 INFO dspy.teleprompt.mipro_optimizer_v2: Best full score so far: 73.67\n",
      "2025/07/02 20:31:38 INFO dspy.teleprompt.mipro_optimizer_v2: ==========================================\n",
      "\n",
      "\n",
      "2025/07/02 20:31:38 INFO dspy.teleprompt.mipro_optimizer_v2: == Trial 23 / 37 - Minibatch ==\n"
     ]
    },
    {
     "name": "stdout",
     "output_type": "stream",
     "text": [
      "\n",
      "Average Metric: 25.07 / 35 (71.6%): 100%|███████████████████████████████████████████████████████████| 35/35 [00:08<00:00,  3.90it/s]"
     ]
    },
    {
     "name": "stderr",
     "output_type": "stream",
     "text": [
      "2025/07/02 20:31:47 INFO dspy.evaluate.evaluate: Average Metric: 25.066666666666666 / 35 (71.6%)\n",
      "2025/07/02 20:31:47 INFO dspy.teleprompt.mipro_optimizer_v2: Score: 71.62 on minibatch of size 35 with parameters ['Predictor 0: Instruction 11', 'Predictor 0: Few-Shot Set 5'].\n",
      "2025/07/02 20:31:47 INFO dspy.teleprompt.mipro_optimizer_v2: Minibatch scores so far: [72.38, 68.67, 71.81, 67.71, 65.14, 70.48, 72.48, 66.38, 71.81, 71.9, 69.81, 69.62, 64.86, 65.62, 74.76, 70.48, 71.14, 76.76, 71.62]\n",
      "2025/07/02 20:31:47 INFO dspy.teleprompt.mipro_optimizer_v2: Full eval scores so far: [70.4, 73.2, 71.07, 73.67]\n",
      "2025/07/02 20:31:47 INFO dspy.teleprompt.mipro_optimizer_v2: Best full score so far: 73.67\n",
      "2025/07/02 20:31:47 INFO dspy.teleprompt.mipro_optimizer_v2: ==========================================\n",
      "\n",
      "\n",
      "2025/07/02 20:31:47 INFO dspy.teleprompt.mipro_optimizer_v2: == Trial 24 / 37 - Minibatch ==\n"
     ]
    },
    {
     "name": "stdout",
     "output_type": "stream",
     "text": [
      "\n",
      "Average Metric: 25.60 / 35 (73.1%): 100%|███████████████████████████████████████████████████████████| 35/35 [00:23<00:00,  1.48it/s]"
     ]
    },
    {
     "name": "stderr",
     "output_type": "stream",
     "text": [
      "2025/07/02 20:32:11 INFO dspy.evaluate.evaluate: Average Metric: 25.599999999999998 / 35 (73.1%)\n",
      "2025/07/02 20:32:11 INFO dspy.teleprompt.mipro_optimizer_v2: Score: 73.14 on minibatch of size 35 with parameters ['Predictor 0: Instruction 2', 'Predictor 0: Few-Shot Set 5'].\n",
      "2025/07/02 20:32:11 INFO dspy.teleprompt.mipro_optimizer_v2: Minibatch scores so far: [72.38, 68.67, 71.81, 67.71, 65.14, 70.48, 72.48, 66.38, 71.81, 71.9, 69.81, 69.62, 64.86, 65.62, 74.76, 70.48, 71.14, 76.76, 71.62, 73.14]\n",
      "2025/07/02 20:32:11 INFO dspy.teleprompt.mipro_optimizer_v2: Full eval scores so far: [70.4, 73.2, 71.07, 73.67]\n",
      "2025/07/02 20:32:11 INFO dspy.teleprompt.mipro_optimizer_v2: Best full score so far: 73.67\n",
      "2025/07/02 20:32:11 INFO dspy.teleprompt.mipro_optimizer_v2: ==========================================\n",
      "\n",
      "\n",
      "2025/07/02 20:32:11 INFO dspy.teleprompt.mipro_optimizer_v2: ===== Trial 25 / 37 - Full Evaluation =====\n",
      "2025/07/02 20:32:11 INFO dspy.teleprompt.mipro_optimizer_v2: Doing full eval on next top averaging program (Avg Score: 74.19) from minibatch trials...\n"
     ]
    },
    {
     "name": "stdout",
     "output_type": "stream",
     "text": [
      "\n",
      "Average Metric: 37.00 / 50 (74.0%): 100%|███████████████████████████████████████████████████████████| 50/50 [00:01<00:00, 28.03it/s]"
     ]
    },
    {
     "name": "stderr",
     "output_type": "stream",
     "text": [
      "2025/07/02 20:32:12 INFO dspy.evaluate.evaluate: Average Metric: 37.0 / 50 (74.0%)\n",
      "2025/07/02 20:32:12 INFO dspy.teleprompt.mipro_optimizer_v2: \u001b[92mNew best full eval score!\u001b[0m Score: 74.0\n",
      "2025/07/02 20:32:12 INFO dspy.teleprompt.mipro_optimizer_v2: Full eval scores so far: [70.4, 73.2, 71.07, 73.67, 74.0]\n",
      "2025/07/02 20:32:12 INFO dspy.teleprompt.mipro_optimizer_v2: Best full score so far: 74.0\n",
      "2025/07/02 20:32:12 INFO dspy.teleprompt.mipro_optimizer_v2: =======================\n",
      "2025/07/02 20:32:12 INFO dspy.teleprompt.mipro_optimizer_v2: \n",
      "\n",
      "2025/07/02 20:32:12 INFO dspy.teleprompt.mipro_optimizer_v2: == Trial 26 / 37 - Minibatch ==\n"
     ]
    },
    {
     "name": "stdout",
     "output_type": "stream",
     "text": [
      "\n",
      "Average Metric: 24.57 / 35 (70.2%): 100%|███████████████████████████████████████████████████████████| 35/35 [00:25<00:00,  1.37it/s]"
     ]
    },
    {
     "name": "stderr",
     "output_type": "stream",
     "text": [
      "2025/07/02 20:32:38 INFO dspy.evaluate.evaluate: Average Metric: 24.566666666666666 / 35 (70.2%)\n",
      "2025/07/02 20:32:38 INFO dspy.teleprompt.mipro_optimizer_v2: Score: 70.19 on minibatch of size 35 with parameters ['Predictor 0: Instruction 11', 'Predictor 0: Few-Shot Set 9'].\n",
      "2025/07/02 20:32:38 INFO dspy.teleprompt.mipro_optimizer_v2: Minibatch scores so far: [72.38, 68.67, 71.81, 67.71, 65.14, 70.48, 72.48, 66.38, 71.81, 71.9, 69.81, 69.62, 64.86, 65.62, 74.76, 70.48, 71.14, 76.76, 71.62, 73.14, 70.19]\n",
      "2025/07/02 20:32:38 INFO dspy.teleprompt.mipro_optimizer_v2: Full eval scores so far: [70.4, 73.2, 71.07, 73.67, 74.0]\n",
      "2025/07/02 20:32:38 INFO dspy.teleprompt.mipro_optimizer_v2: Best full score so far: 74.0\n",
      "2025/07/02 20:32:38 INFO dspy.teleprompt.mipro_optimizer_v2: ==========================================\n",
      "\n",
      "\n",
      "2025/07/02 20:32:38 INFO dspy.teleprompt.mipro_optimizer_v2: == Trial 27 / 37 - Minibatch ==\n"
     ]
    },
    {
     "name": "stdout",
     "output_type": "stream",
     "text": [
      "\n",
      "Average Metric: 26.30 / 35 (75.1%): 100%|███████████████████████████████████████████████████████████| 35/35 [00:25<00:00,  1.37it/s]"
     ]
    },
    {
     "name": "stderr",
     "output_type": "stream",
     "text": [
      "2025/07/02 20:33:03 INFO dspy.evaluate.evaluate: Average Metric: 26.3 / 35 (75.1%)\n",
      "2025/07/02 20:33:04 INFO dspy.teleprompt.mipro_optimizer_v2: Score: 75.14 on minibatch of size 35 with parameters ['Predictor 0: Instruction 11', 'Predictor 0: Few-Shot Set 11'].\n",
      "2025/07/02 20:33:04 INFO dspy.teleprompt.mipro_optimizer_v2: Minibatch scores so far: [72.38, 68.67, 71.81, 67.71, 65.14, 70.48, 72.48, 66.38, 71.81, 71.9, 69.81, 69.62, 64.86, 65.62, 74.76, 70.48, 71.14, 76.76, 71.62, 73.14, 70.19, 75.14]\n",
      "2025/07/02 20:33:04 INFO dspy.teleprompt.mipro_optimizer_v2: Full eval scores so far: [70.4, 73.2, 71.07, 73.67, 74.0]\n",
      "2025/07/02 20:33:04 INFO dspy.teleprompt.mipro_optimizer_v2: Best full score so far: 74.0\n",
      "2025/07/02 20:33:04 INFO dspy.teleprompt.mipro_optimizer_v2: ==========================================\n",
      "\n",
      "\n",
      "2025/07/02 20:33:04 INFO dspy.teleprompt.mipro_optimizer_v2: == Trial 28 / 37 - Minibatch ==\n"
     ]
    },
    {
     "name": "stdout",
     "output_type": "stream",
     "text": [
      "\n",
      "Average Metric: 24.37 / 35 (69.6%): 100%|███████████████████████████████████████████████████████████| 35/35 [00:25<00:00,  1.36it/s]"
     ]
    },
    {
     "name": "stderr",
     "output_type": "stream",
     "text": [
      "2025/07/02 20:33:29 INFO dspy.evaluate.evaluate: Average Metric: 24.366666666666667 / 35 (69.6%)\n",
      "2025/07/02 20:33:29 INFO dspy.teleprompt.mipro_optimizer_v2: Score: 69.62 on minibatch of size 35 with parameters ['Predictor 0: Instruction 7', 'Predictor 0: Few-Shot Set 14'].\n",
      "2025/07/02 20:33:29 INFO dspy.teleprompt.mipro_optimizer_v2: Minibatch scores so far: [72.38, 68.67, 71.81, 67.71, 65.14, 70.48, 72.48, 66.38, 71.81, 71.9, 69.81, 69.62, 64.86, 65.62, 74.76, 70.48, 71.14, 76.76, 71.62, 73.14, 70.19, 75.14, 69.62]\n",
      "2025/07/02 20:33:29 INFO dspy.teleprompt.mipro_optimizer_v2: Full eval scores so far: [70.4, 73.2, 71.07, 73.67, 74.0]\n",
      "2025/07/02 20:33:29 INFO dspy.teleprompt.mipro_optimizer_v2: Best full score so far: 74.0\n",
      "2025/07/02 20:33:29 INFO dspy.teleprompt.mipro_optimizer_v2: ==========================================\n",
      "\n",
      "\n",
      "2025/07/02 20:33:29 INFO dspy.teleprompt.mipro_optimizer_v2: == Trial 29 / 37 - Minibatch ==\n"
     ]
    },
    {
     "name": "stdout",
     "output_type": "stream",
     "text": [
      "\n",
      "Average Metric: 26.27 / 35 (75.0%): 100%|███████████████████████████████████████████████████████████| 35/35 [00:25<00:00,  1.36it/s]"
     ]
    },
    {
     "name": "stderr",
     "output_type": "stream",
     "text": [
      "2025/07/02 20:33:55 INFO dspy.evaluate.evaluate: Average Metric: 26.266666666666666 / 35 (75.0%)\n",
      "2025/07/02 20:33:55 INFO dspy.teleprompt.mipro_optimizer_v2: Score: 75.05 on minibatch of size 35 with parameters ['Predictor 0: Instruction 15', 'Predictor 0: Few-Shot Set 11'].\n",
      "2025/07/02 20:33:55 INFO dspy.teleprompt.mipro_optimizer_v2: Minibatch scores so far: [72.38, 68.67, 71.81, 67.71, 65.14, 70.48, 72.48, 66.38, 71.81, 71.9, 69.81, 69.62, 64.86, 65.62, 74.76, 70.48, 71.14, 76.76, 71.62, 73.14, 70.19, 75.14, 69.62, 75.05]\n",
      "2025/07/02 20:33:55 INFO dspy.teleprompt.mipro_optimizer_v2: Full eval scores so far: [70.4, 73.2, 71.07, 73.67, 74.0]\n",
      "2025/07/02 20:33:55 INFO dspy.teleprompt.mipro_optimizer_v2: Best full score so far: 74.0\n",
      "2025/07/02 20:33:55 INFO dspy.teleprompt.mipro_optimizer_v2: ==========================================\n",
      "\n",
      "\n",
      "2025/07/02 20:33:55 INFO dspy.teleprompt.mipro_optimizer_v2: == Trial 30 / 37 - Minibatch ==\n"
     ]
    },
    {
     "name": "stdout",
     "output_type": "stream",
     "text": [
      "\n",
      "Average Metric: 24.33 / 35 (69.5%): 100%|███████████████████████████████████████████████████████████| 35/35 [00:27<00:00,  1.25it/s]"
     ]
    },
    {
     "name": "stderr",
     "output_type": "stream",
     "text": [
      "2025/07/02 20:34:23 INFO dspy.evaluate.evaluate: Average Metric: 24.333333333333332 / 35 (69.5%)\n",
      "2025/07/02 20:34:23 INFO dspy.teleprompt.mipro_optimizer_v2: Score: 69.52 on minibatch of size 35 with parameters ['Predictor 0: Instruction 1', 'Predictor 0: Few-Shot Set 11'].\n",
      "2025/07/02 20:34:23 INFO dspy.teleprompt.mipro_optimizer_v2: Minibatch scores so far: [72.38, 68.67, 71.81, 67.71, 65.14, 70.48, 72.48, 66.38, 71.81, 71.9, 69.81, 69.62, 64.86, 65.62, 74.76, 70.48, 71.14, 76.76, 71.62, 73.14, 70.19, 75.14, 69.62, 75.05, 69.52]\n",
      "2025/07/02 20:34:23 INFO dspy.teleprompt.mipro_optimizer_v2: Full eval scores so far: [70.4, 73.2, 71.07, 73.67, 74.0]\n",
      "2025/07/02 20:34:23 INFO dspy.teleprompt.mipro_optimizer_v2: Best full score so far: 74.0\n",
      "2025/07/02 20:34:23 INFO dspy.teleprompt.mipro_optimizer_v2: ==========================================\n",
      "\n",
      "\n",
      "2025/07/02 20:34:23 INFO dspy.teleprompt.mipro_optimizer_v2: ===== Trial 31 / 37 - Full Evaluation =====\n",
      "2025/07/02 20:34:23 INFO dspy.teleprompt.mipro_optimizer_v2: Doing full eval on next top averaging program (Avg Score: 75.14) from minibatch trials...\n"
     ]
    },
    {
     "name": "stdout",
     "output_type": "stream",
     "text": [
      "\n",
      "Average Metric: 36.20 / 50 (72.4%): 100%|███████████████████████████████████████████████████████████| 50/50 [00:11<00:00,  4.44it/s]"
     ]
    },
    {
     "name": "stderr",
     "output_type": "stream",
     "text": [
      "2025/07/02 20:34:34 INFO dspy.evaluate.evaluate: Average Metric: 36.199999999999996 / 50 (72.4%)\n",
      "2025/07/02 20:34:34 INFO dspy.teleprompt.mipro_optimizer_v2: Full eval scores so far: [70.4, 73.2, 71.07, 73.67, 74.0, 72.4]\n",
      "2025/07/02 20:34:34 INFO dspy.teleprompt.mipro_optimizer_v2: Best full score so far: 74.0\n",
      "2025/07/02 20:34:34 INFO dspy.teleprompt.mipro_optimizer_v2: =======================\n",
      "2025/07/02 20:34:34 INFO dspy.teleprompt.mipro_optimizer_v2: \n",
      "\n",
      "2025/07/02 20:34:34 INFO dspy.teleprompt.mipro_optimizer_v2: == Trial 32 / 37 - Minibatch ==\n"
     ]
    },
    {
     "name": "stdout",
     "output_type": "stream",
     "text": [
      "\n",
      "Average Metric: 22.37 / 35 (63.9%): 100%|███████████████████████████████████████████████████████████| 35/35 [00:27<00:00,  1.25it/s]"
     ]
    },
    {
     "name": "stderr",
     "output_type": "stream",
     "text": [
      "2025/07/02 20:35:02 INFO dspy.evaluate.evaluate: Average Metric: 22.366666666666667 / 35 (63.9%)\n",
      "2025/07/02 20:35:02 INFO dspy.teleprompt.mipro_optimizer_v2: Score: 63.9 on minibatch of size 35 with parameters ['Predictor 0: Instruction 4', 'Predictor 0: Few-Shot Set 0'].\n",
      "2025/07/02 20:35:02 INFO dspy.teleprompt.mipro_optimizer_v2: Minibatch scores so far: [72.38, 68.67, 71.81, 67.71, 65.14, 70.48, 72.48, 66.38, 71.81, 71.9, 69.81, 69.62, 64.86, 65.62, 74.76, 70.48, 71.14, 76.76, 71.62, 73.14, 70.19, 75.14, 69.62, 75.05, 69.52, 63.9]\n",
      "2025/07/02 20:35:02 INFO dspy.teleprompt.mipro_optimizer_v2: Full eval scores so far: [70.4, 73.2, 71.07, 73.67, 74.0, 72.4]\n",
      "2025/07/02 20:35:02 INFO dspy.teleprompt.mipro_optimizer_v2: Best full score so far: 74.0\n",
      "2025/07/02 20:35:02 INFO dspy.teleprompt.mipro_optimizer_v2: ==========================================\n",
      "\n",
      "\n",
      "2025/07/02 20:35:02 INFO dspy.teleprompt.mipro_optimizer_v2: == Trial 33 / 37 - Minibatch ==\n"
     ]
    },
    {
     "name": "stdout",
     "output_type": "stream",
     "text": [
      "\n",
      "Average Metric: 24.47 / 35 (69.9%): 100%|███████████████████████████████████████████████████████████| 35/35 [00:25<00:00,  1.35it/s]"
     ]
    },
    {
     "name": "stderr",
     "output_type": "stream",
     "text": [
      "2025/07/02 20:35:28 INFO dspy.evaluate.evaluate: Average Metric: 24.466666666666665 / 35 (69.9%)\n",
      "2025/07/02 20:35:28 INFO dspy.teleprompt.mipro_optimizer_v2: Score: 69.9 on minibatch of size 35 with parameters ['Predictor 0: Instruction 15', 'Predictor 0: Few-Shot Set 7'].\n",
      "2025/07/02 20:35:28 INFO dspy.teleprompt.mipro_optimizer_v2: Minibatch scores so far: [72.38, 68.67, 71.81, 67.71, 65.14, 70.48, 72.48, 66.38, 71.81, 71.9, 69.81, 69.62, 64.86, 65.62, 74.76, 70.48, 71.14, 76.76, 71.62, 73.14, 70.19, 75.14, 69.62, 75.05, 69.52, 63.9, 69.9]\n",
      "2025/07/02 20:35:28 INFO dspy.teleprompt.mipro_optimizer_v2: Full eval scores so far: [70.4, 73.2, 71.07, 73.67, 74.0, 72.4]\n",
      "2025/07/02 20:35:28 INFO dspy.teleprompt.mipro_optimizer_v2: Best full score so far: 74.0\n",
      "2025/07/02 20:35:28 INFO dspy.teleprompt.mipro_optimizer_v2: ==========================================\n",
      "\n",
      "\n",
      "2025/07/02 20:35:28 INFO dspy.teleprompt.mipro_optimizer_v2: == Trial 34 / 37 - Minibatch ==\n"
     ]
    },
    {
     "name": "stdout",
     "output_type": "stream",
     "text": [
      "\n",
      "Average Metric: 25.93 / 35 (74.1%): 100%|███████████████████████████████████████████████████████████| 35/35 [00:30<00:00,  1.13it/s]"
     ]
    },
    {
     "name": "stderr",
     "output_type": "stream",
     "text": [
      "2025/07/02 20:35:59 INFO dspy.evaluate.evaluate: Average Metric: 25.933333333333334 / 35 (74.1%)\n",
      "2025/07/02 20:35:59 INFO dspy.teleprompt.mipro_optimizer_v2: Score: 74.1 on minibatch of size 35 with parameters ['Predictor 0: Instruction 14', 'Predictor 0: Few-Shot Set 11'].\n",
      "2025/07/02 20:35:59 INFO dspy.teleprompt.mipro_optimizer_v2: Minibatch scores so far: [72.38, 68.67, 71.81, 67.71, 65.14, 70.48, 72.48, 66.38, 71.81, 71.9, 69.81, 69.62, 64.86, 65.62, 74.76, 70.48, 71.14, 76.76, 71.62, 73.14, 70.19, 75.14, 69.62, 75.05, 69.52, 63.9, 69.9, 74.1]\n",
      "2025/07/02 20:35:59 INFO dspy.teleprompt.mipro_optimizer_v2: Full eval scores so far: [70.4, 73.2, 71.07, 73.67, 74.0, 72.4]\n",
      "2025/07/02 20:35:59 INFO dspy.teleprompt.mipro_optimizer_v2: Best full score so far: 74.0\n",
      "2025/07/02 20:35:59 INFO dspy.teleprompt.mipro_optimizer_v2: ==========================================\n",
      "\n",
      "\n",
      "2025/07/02 20:35:59 INFO dspy.teleprompt.mipro_optimizer_v2: == Trial 35 / 37 - Minibatch ==\n"
     ]
    },
    {
     "name": "stdout",
     "output_type": "stream",
     "text": [
      "\n",
      "Average Metric: 25.80 / 35 (73.7%): 100%|███████████████████████████████████████████████████████████| 35/35 [00:26<00:00,  1.32it/s]"
     ]
    },
    {
     "name": "stderr",
     "output_type": "stream",
     "text": [
      "2025/07/02 20:36:26 INFO dspy.evaluate.evaluate: Average Metric: 25.8 / 35 (73.7%)\n",
      "2025/07/02 20:36:26 INFO dspy.teleprompt.mipro_optimizer_v2: Score: 73.71 on minibatch of size 35 with parameters ['Predictor 0: Instruction 8', 'Predictor 0: Few-Shot Set 11'].\n",
      "2025/07/02 20:36:26 INFO dspy.teleprompt.mipro_optimizer_v2: Minibatch scores so far: [72.38, 68.67, 71.81, 67.71, 65.14, 70.48, 72.48, 66.38, 71.81, 71.9, 69.81, 69.62, 64.86, 65.62, 74.76, 70.48, 71.14, 76.76, 71.62, 73.14, 70.19, 75.14, 69.62, 75.05, 69.52, 63.9, 69.9, 74.1, 73.71]\n",
      "2025/07/02 20:36:26 INFO dspy.teleprompt.mipro_optimizer_v2: Full eval scores so far: [70.4, 73.2, 71.07, 73.67, 74.0, 72.4]\n",
      "2025/07/02 20:36:26 INFO dspy.teleprompt.mipro_optimizer_v2: Best full score so far: 74.0\n",
      "2025/07/02 20:36:26 INFO dspy.teleprompt.mipro_optimizer_v2: ==========================================\n",
      "\n",
      "\n",
      "2025/07/02 20:36:26 INFO dspy.teleprompt.mipro_optimizer_v2: == Trial 36 / 37 - Minibatch ==\n"
     ]
    },
    {
     "name": "stdout",
     "output_type": "stream",
     "text": [
      "\n",
      "Average Metric: 22.57 / 35 (64.5%): 100%|███████████████████████████████████████████████████████████| 35/35 [00:27<00:00,  1.27it/s]"
     ]
    },
    {
     "name": "stderr",
     "output_type": "stream",
     "text": [
      "2025/07/02 20:36:53 INFO dspy.evaluate.evaluate: Average Metric: 22.566666666666666 / 35 (64.5%)\n",
      "2025/07/02 20:36:53 INFO dspy.teleprompt.mipro_optimizer_v2: Score: 64.48 on minibatch of size 35 with parameters ['Predictor 0: Instruction 13', 'Predictor 0: Few-Shot Set 8'].\n",
      "2025/07/02 20:36:53 INFO dspy.teleprompt.mipro_optimizer_v2: Minibatch scores so far: [72.38, 68.67, 71.81, 67.71, 65.14, 70.48, 72.48, 66.38, 71.81, 71.9, 69.81, 69.62, 64.86, 65.62, 74.76, 70.48, 71.14, 76.76, 71.62, 73.14, 70.19, 75.14, 69.62, 75.05, 69.52, 63.9, 69.9, 74.1, 73.71, 64.48]\n",
      "2025/07/02 20:36:53 INFO dspy.teleprompt.mipro_optimizer_v2: Full eval scores so far: [70.4, 73.2, 71.07, 73.67, 74.0, 72.4]\n",
      "2025/07/02 20:36:53 INFO dspy.teleprompt.mipro_optimizer_v2: Best full score so far: 74.0\n",
      "2025/07/02 20:36:53 INFO dspy.teleprompt.mipro_optimizer_v2: ==========================================\n",
      "\n",
      "\n",
      "2025/07/02 20:36:53 INFO dspy.teleprompt.mipro_optimizer_v2: ===== Trial 37 / 37 - Full Evaluation =====\n",
      "2025/07/02 20:36:53 INFO dspy.teleprompt.mipro_optimizer_v2: Doing full eval on next top averaging program (Avg Score: 75.05) from minibatch trials...\n"
     ]
    },
    {
     "name": "stdout",
     "output_type": "stream",
     "text": [
      "\n",
      "Average Metric: 36.47 / 50 (72.9%): 100%|███████████████████████████████████████████████████████████| 50/50 [00:13<00:00,  3.84it/s]"
     ]
    },
    {
     "name": "stderr",
     "output_type": "stream",
     "text": [
      "2025/07/02 20:37:06 INFO dspy.evaluate.evaluate: Average Metric: 36.46666666666667 / 50 (72.9%)\n",
      "2025/07/02 20:37:06 INFO dspy.teleprompt.mipro_optimizer_v2: Full eval scores so far: [70.4, 73.2, 71.07, 73.67, 74.0, 72.4, 72.93]\n",
      "2025/07/02 20:37:06 INFO dspy.teleprompt.mipro_optimizer_v2: Best full score so far: 74.0\n",
      "2025/07/02 20:37:06 INFO dspy.teleprompt.mipro_optimizer_v2: =======================\n",
      "2025/07/02 20:37:06 INFO dspy.teleprompt.mipro_optimizer_v2: \n",
      "\n",
      "2025/07/02 20:37:06 INFO dspy.teleprompt.mipro_optimizer_v2: Returning best identified program with score 74.0!\n"
     ]
    },
    {
     "name": "stdout",
     "output_type": "stream",
     "text": [
      "\n"
     ]
    }
   ],
   "source": [
    "from amzn_nova_prompt_optimizer.core.optimizers import NovaPromptOptimizer\n",
    "\n",
    "nova_prompt_optimizer = NovaPromptOptimizer(prompt_adapter=prompt_adapter, inference_adapter=inference_adapter, dataset_adapter=train_set, metric_adapter=nova_metric_adapter)\n",
    "\n",
    "optimized_prompt_adapter = nova_prompt_optimizer.optimize(mode=\"pro\")"
   ]
  },
  {
   "cell_type": "code",
   "execution_count": 11,
   "id": "5f1de0fc",
   "metadata": {},
   "outputs": [
    {
     "name": "stderr",
     "output_type": "stream",
     "text": [
      "2025/07/02 20:37:07 INFO amzn_nova_prompt_optimizer.core.input_adapters.prompt_adapter: \n",
      "Standardized Prompt:\n"
     ]
    },
    {
     "name": "stdout",
     "output_type": "stream",
     "text": [
      "{\n",
      "  \"user_prompt\": {\n",
      "    \"variables\": [\n",
      "      \"input\"\n",
      "    ],\n",
      "    \"template\": \"Extract and return a json with the following keys and values from the input: [{{input}}]\\n- \\\"urgency\\\" as one of `high`, `medium`, `low`\\n- \\\"sentiment\\\" as one of `negative`, `neutral`, `positive`\\n- \\\"categories\\\" as a dictionary with boolean values for: `emergency_repair_services`, `routine_maintenance_requests`, `quality_and_safety_concerns`, `specialized_cleaning_services`, `general_inquiries`, `sustainability_and_environmental_practices`, `training_and_support_requests`, `cleaning_services_scheduling`, `customer_feedback_and_complaints`, `facility_management_issues`\\n\\nYour complete message should be a valid json string that can be read directly and only contain the keys mentioned in the list above. Never enclose it in ```json...```, no newlines, no unnecessary whitespaces.\",\n",
      "    \"metadata\": {\n",
      "      \"format\": \"text\"\n",
      "    }\n",
      "  },\n",
      "  \"system_prompt\": {\n",
      "    \"variables\": [],\n",
      "    \"template\": \"Analyze the customer service email to classify its content accurately. Return a JSON object with \\\"urgency\\\" (high/medium/low), \\\"sentiment\\\" (negative/neutral/positive), and \\\"categories\\\" (boolean flags for predefined types). Ensure compliance with data privacy standards by omitting personal identifiers. Follow the format strictly: `{\\\"urgency\\\": \\\"...\\\", \\\"sentiment\\\": \\\"...\\\", \\\"categories\\\": {\\\"...\\\": true/false, ...}}`.\",\n",
      "    \"metadata\": {\n",
      "      \"format\": \"text\"\n",
      "    }\n",
      "  },\n",
      "  \"few_shot\": {\n",
      "    \"examples\": [\n",
      "      {\n",
      "        \"input\": \"Extract and return a json with the following keys and values from the input: [Subject: Urgent Request for Training and Support\\n\\nHi ProCare Support Team,\\n\\nI hope this message finds you well. My name is [Sender], and I manage a residential complex that has been utilizing ProCare Facility Solutions for our maintenance and cleaning needs for the past year. Your services have been instrumental in keeping our environment safe and well-maintained.\\n\\nHowever, I am reaching out with an urgent request. We are in immediate need of comprehensive training for our in-house maintenance team. Given the complexity of our facility's systems, particularly the HVAC and electrical components, it's crucial that our team is well-versed in best practices and troubleshooting techniques. \\n\\nWe have encountered several issues recently that have highlighted gaps in our current knowledge and capabilities. While we have managed to address these problems temporarily, a more sustainable solution is necessary. We need a detailed training program that covers routine maintenance, emergency repairs, and energy efficiency practices.\\n\\nCould you please provide information on the available training programs and how quickly we can schedule a session? Time is of the essence, as we aim to prevent any further disruptions to our facility's operations.\\n\\nThank you for your prompt attention to this matter. I look forward to your swift response.\\n\\nBest regards,\\n[Sender]]\\n- \\\"urgency\\\" as one of `high`, `medium`, `low`\\n- \\\"sentiment\\\" as one of `negative`, `neutral`, `positive`\\n- \\\"categories\\\" as a dictionary with boolean values for: `emergency_repair_services`, `routine_maintenance_requests`, `quality_and_safety_concerns`, `specialized_cleaning_services`, `general_inquiries`, `sustainability_and_environmental_practices`, `training_and_support_requests`, `cleaning_services_scheduling`, `customer_feedback_and_complaints`, `facility_management_issues`\\n\\nYour complete message should be a valid json string that can be read directly and only contain the keys mentioned in the list above. Never enclose it in ```json...```, no newlines, no unnecessary whitespaces.\",\n",
      "        \"output\": \"{\\\"categories\\\": {\\\"routine_maintenance_requests\\\": false, \\\"customer_feedback_and_complaints\\\": false, \\\"training_and_support_requests\\\": true, \\\"quality_and_safety_concerns\\\": false, \\\"sustainability_and_environmental_practices\\\": false, \\\"cleaning_services_scheduling\\\": false, \\\"specialized_cleaning_services\\\": false, \\\"emergency_repair_services\\\": false, \\\"facility_management_issues\\\": false, \\\"general_inquiries\\\": false}, \\\"sentiment\\\": \\\"neutral\\\", \\\"urgency\\\": \\\"high\\\"}\"\n",
      "      },\n",
      "      {\n",
      "        \"input\": \"Extract and return a json with the following keys and values from the input: [Subject: Immediate Assistance Required for Facility Management Issue\\n\\nDear ProCare Support Team,\\n\\nI hope this message finds you well. My name is [Sender], and I am currently residing in one of the residential complexes managed by ProCare Facility Solutions. I am reaching out to you with an urgent matter that requires immediate attention.\\n\\nOver the past few days, I have noticed significant issues with the facility management in my building. Specifically, there have been recurring problems with the HVAC system, which has resulted in inconsistent heating and cooling. This has made it quite challenging to maintain a comfortable living environment, especially given the current weather conditions.\\n\\nI have already attempted to address this issue by contacting the building's maintenance staff directly, but unfortunately, the problem persists. Given the urgency of the situation, I am requesting that a qualified technician be dispatched as soon as possible to resolve this matter.\\n\\nYour prompt assistance in this regard would be greatly appreciated, as it is crucial for me to have a stable and comfortable living environment to focus on my studies.\\n\\nThank you for your understanding and swift action.\\n\\nBest regards,\\n[Sender]]\\n- \\\"urgency\\\" as one of `high`, `medium`, `low`\\n- \\\"sentiment\\\" as one of `negative`, `neutral`, `positive`\\n- \\\"categories\\\" as a dictionary with boolean values for: `emergency_repair_services`, `routine_maintenance_requests`, `quality_and_safety_concerns`, `specialized_cleaning_services`, `general_inquiries`, `sustainability_and_environmental_practices`, `training_and_support_requests`, `cleaning_services_scheduling`, `customer_feedback_and_complaints`, `facility_management_issues`\\n\\nYour complete message should be a valid json string that can be read directly and only contain the keys mentioned in the list above. Never enclose it in ```json...```, no newlines, no unnecessary whitespaces.\",\n",
      "        \"output\": \"{\\\"categories\\\": {\\\"routine_maintenance_requests\\\": false, \\\"customer_feedback_and_complaints\\\": false, \\\"training_and_support_requests\\\": false, \\\"quality_and_safety_concerns\\\": false, \\\"sustainability_and_environmental_practices\\\": false, \\\"cleaning_services_scheduling\\\": false, \\\"specialized_cleaning_services\\\": false, \\\"emergency_repair_services\\\": false, \\\"facility_management_issues\\\": true, \\\"general_inquiries\\\": false}, \\\"sentiment\\\": \\\"negative\\\", \\\"urgency\\\": \\\"high\\\"}\"\n",
      "      },\n",
      "      {\n",
      "        \"input\": \"Extract and return a json with the following keys and values from the input: [Subject: Scheduling Cleaning Services for My Home\\n\\nHi ProCare Support Team,\\n\\nI hope this message finds you well. My name is Alex, and I\\u2019m a high school student currently living in a residential complex that uses your services. I\\u2019ve heard great things about ProCare Facility Solutions from my neighbors and have seen firsthand the excellent work your team does.\\n\\nI\\u2019m reaching out because I need to schedule a cleaning service for my home. With school and college applications taking up most of my time, I haven\\u2019t been able to keep up with the cleaning as much as I\\u2019d like. I\\u2019m looking for a regular cleaning schedule, preferably weekly, to help maintain a clean and healthy environment.\\n\\nI haven\\u2019t taken any steps yet to resolve this, as I wanted to get in touch with you directly to understand the best options available. Could you please guide me on how to set up a cleaning schedule and what the next steps would be?\\n\\nThank you for your assistance. I look forward to hearing from you soon.\\n\\nBest regards,\\nAlex]\\n- \\\"urgency\\\" as one of `high`, `medium`, `low`\\n- \\\"sentiment\\\" as one of `negative`, `neutral`, `positive`\\n- \\\"categories\\\" as a dictionary with boolean values for: `emergency_repair_services`, `routine_maintenance_requests`, `quality_and_safety_concerns`, `specialized_cleaning_services`, `general_inquiries`, `sustainability_and_environmental_practices`, `training_and_support_requests`, `cleaning_services_scheduling`, `customer_feedback_and_complaints`, `facility_management_issues`\\n\\nYour complete message should be a valid json string that can be read directly and only contain the keys mentioned in the list above. Never enclose it in ```json...```, no newlines, no unnecessary whitespaces.\",\n",
      "        \"output\": \"{\\\"categories\\\": {\\\"routine_maintenance_requests\\\": false, \\\"customer_feedback_and_complaints\\\": false, \\\"training_and_support_requests\\\": false, \\\"quality_and_safety_concerns\\\": false, \\\"sustainability_and_environmental_practices\\\": false, \\\"cleaning_services_scheduling\\\": true, \\\"specialized_cleaning_services\\\": false, \\\"emergency_repair_services\\\": false, \\\"facility_management_issues\\\": false, \\\"general_inquiries\\\": false}, \\\"sentiment\\\": \\\"neutral\\\", \\\"urgency\\\": \\\"low\\\"}\"\n",
      "      },\n",
      "      {\n",
      "        \"input\": \"Extract and return a json with the following keys and values from the input: [Subject: Immediate Attention Required: Emergency Repair Needed\\n\\nHey ProCare Support Team,\\n\\nThis is [Sender], and I have to say, I'm not impressed. I've been using your services for a while now, and I expected better. Right now, I'm dealing with a major issue that needs your immediate attention.\\n\\nThe HVAC system in my building has completely failed, and it's causing a lot of problems. The temperature is unbearable, and it's affecting everyone here. This isn't just an inconvenience; it's a serious problem that needs to be fixed right away. I've tried resetting the system and checking the circuit breakers, but nothing has worked.\\n\\nI need your team to come out and fix this immediately. This kind of failure is unacceptable, and I expect a prompt response. If this isn't resolved quickly, I might have to reconsider using your services in the future.\\n\\nLooking forward to your swift action.\\n\\n[Sender]]\\n- \\\"urgency\\\" as one of `high`, `medium`, `low`\\n- \\\"sentiment\\\" as one of `negative`, `neutral`, `positive`\\n- \\\"categories\\\" as a dictionary with boolean values for: `emergency_repair_services`, `routine_maintenance_requests`, `quality_and_safety_concerns`, `specialized_cleaning_services`, `general_inquiries`, `sustainability_and_environmental_practices`, `training_and_support_requests`, `cleaning_services_scheduling`, `customer_feedback_and_complaints`, `facility_management_issues`\\n\\nYour complete message should be a valid json string that can be read directly and only contain the keys mentioned in the list above. Never enclose it in ```json...```, no newlines, no unnecessary whitespaces.\",\n",
      "        \"output\": \"{\\\"categories\\\": {\\\"routine_maintenance_requests\\\": false, \\\"customer_feedback_and_complaints\\\": true, \\\"training_and_support_requests\\\": false, \\\"quality_and_safety_concerns\\\": false, \\\"sustainability_and_environmental_practices\\\": false, \\\"cleaning_services_scheduling\\\": false, \\\"specialized_cleaning_services\\\": false, \\\"emergency_repair_services\\\": true, \\\"facility_management_issues\\\": false, \\\"general_inquiries\\\": false}, \\\"sentiment\\\": \\\"negative\\\", \\\"urgency\\\": \\\"high\\\"}\"\n",
      "      }\n",
      "    ],\n",
      "    \"format\": \"converse\"\n",
      "  }\n",
      "}\n"
     ]
    }
   ],
   "source": [
    "optimized_prompt_adapter.show()"
   ]
  },
  {
   "cell_type": "markdown",
   "id": "4a051afb",
   "metadata": {},
   "source": [
    "### Optimized System Prompt"
   ]
  },
  {
   "cell_type": "code",
   "execution_count": 12,
   "id": "4b4b52d7",
   "metadata": {},
   "outputs": [
    {
     "name": "stdout",
     "output_type": "stream",
     "text": [
      "Analyze the customer service email to classify its content accurately. Return a JSON object with \"urgency\" (high/medium/low), \"sentiment\" (negative/neutral/positive), and \"categories\" (boolean flags for predefined types). Ensure compliance with data privacy standards by omitting personal identifiers. Follow the format strictly: `{\"urgency\": \"...\", \"sentiment\": \"...\", \"categories\": {\"...\": true/false, ...}}`.\n"
     ]
    }
   ],
   "source": [
    "print(optimized_prompt_adapter.system_prompt)"
   ]
  },
  {
   "cell_type": "markdown",
   "id": "90efbb24",
   "metadata": {},
   "source": [
    "### Optimized User Prompt"
   ]
  },
  {
   "cell_type": "code",
   "execution_count": 13,
   "id": "9795751a",
   "metadata": {},
   "outputs": [
    {
     "name": "stdout",
     "output_type": "stream",
     "text": [
      "Extract and return a json with the following keys and values from the input: [{{input}}]\n",
      "- \"urgency\" as one of `high`, `medium`, `low`\n",
      "- \"sentiment\" as one of `negative`, `neutral`, `positive`\n",
      "- \"categories\" as a dictionary with boolean values for: `emergency_repair_services`, `routine_maintenance_requests`, `quality_and_safety_concerns`, `specialized_cleaning_services`, `general_inquiries`, `sustainability_and_environmental_practices`, `training_and_support_requests`, `cleaning_services_scheduling`, `customer_feedback_and_complaints`, `facility_management_issues`\n",
      "\n",
      "Your complete message should be a valid json string that can be read directly and only contain the keys mentioned in the list above. Never enclose it in ```json...```, no newlines, no unnecessary whitespaces.\n"
     ]
    }
   ],
   "source": [
    "print(optimized_prompt_adapter.user_prompt)"
   ]
  },
  {
   "cell_type": "markdown",
   "id": "32cb01f0-7d07-4bd2-ab0f-4dced7d55da7",
   "metadata": {},
   "source": [
    "### Few Shot Examples"
   ]
  },
  {
   "cell_type": "code",
   "execution_count": 14,
   "id": "4dfa1fdb-7273-4c76-a0ad-e8a0692bfbec",
   "metadata": {},
   "outputs": [
    {
     "name": "stdout",
     "output_type": "stream",
     "text": [
      "Number of Few-Shot Examples = 4\n"
     ]
    }
   ],
   "source": [
    "print(f\"Number of Few-Shot Examples = {len(optimized_prompt_adapter.few_shot_examples)}\")"
   ]
  },
  {
   "cell_type": "code",
   "execution_count": 15,
   "id": "b25e3b16-0f49-41cd-a68b-d6ccbc51b656",
   "metadata": {},
   "outputs": [
    {
     "name": "stdout",
     "output_type": "stream",
     "text": [
      "{'input': 'Extract and return a json with the following keys and values from the input: [Subject: Urgent Request for Training and Support\\n\\nHi ProCare Support Team,\\n\\nI hope this message finds you well. My name is [Sender], and I manage a residential complex that has been utilizing ProCare Facility Solutions for our maintenance and cleaning needs for the past year. Your services have been instrumental in keeping our environment safe and well-maintained.\\n\\nHowever, I am reaching out with an urgent request. We are in immediate need of comprehensive training for our in-house maintenance team. Given the complexity of our facility\\'s systems, particularly the HVAC and electrical components, it\\'s crucial that our team is well-versed in best practices and troubleshooting techniques. \\n\\nWe have encountered several issues recently that have highlighted gaps in our current knowledge and capabilities. While we have managed to address these problems temporarily, a more sustainable solution is necessary. We need a detailed training program that covers routine maintenance, emergency repairs, and energy efficiency practices.\\n\\nCould you please provide information on the available training programs and how quickly we can schedule a session? Time is of the essence, as we aim to prevent any further disruptions to our facility\\'s operations.\\n\\nThank you for your prompt attention to this matter. I look forward to your swift response.\\n\\nBest regards,\\n[Sender]]\\n- \"urgency\" as one of `high`, `medium`, `low`\\n- \"sentiment\" as one of `negative`, `neutral`, `positive`\\n- \"categories\" as a dictionary with boolean values for: `emergency_repair_services`, `routine_maintenance_requests`, `quality_and_safety_concerns`, `specialized_cleaning_services`, `general_inquiries`, `sustainability_and_environmental_practices`, `training_and_support_requests`, `cleaning_services_scheduling`, `customer_feedback_and_complaints`, `facility_management_issues`\\n\\nYour complete message should be a valid json string that can be read directly and only contain the keys mentioned in the list above. Never enclose it in ```json...```, no newlines, no unnecessary whitespaces.', 'output': '{\"categories\": {\"routine_maintenance_requests\": false, \"customer_feedback_and_complaints\": false, \"training_and_support_requests\": true, \"quality_and_safety_concerns\": false, \"sustainability_and_environmental_practices\": false, \"cleaning_services_scheduling\": false, \"specialized_cleaning_services\": false, \"emergency_repair_services\": false, \"facility_management_issues\": false, \"general_inquiries\": false}, \"sentiment\": \"neutral\", \"urgency\": \"high\"}'}\n"
     ]
    }
   ],
   "source": [
    "# Print only the first example\n",
    "print(optimized_prompt_adapter.few_shot_examples[0])"
   ]
  },
  {
   "cell_type": "markdown",
   "id": "0d30a347",
   "metadata": {},
   "source": [
    "### Evaluator\n",
    "\n",
    "Now we evaluate the Nova Prompt Optimizer Optimized prompt"
   ]
  },
  {
   "cell_type": "code",
   "execution_count": 16,
   "id": "65493b31",
   "metadata": {},
   "outputs": [],
   "source": [
    "from amzn_nova_prompt_optimizer.core.evaluation import Evaluator\n",
    "\n",
    "evaluator = Evaluator(optimized_prompt_adapter, test_set, metric_adapter, inference_adapter)"
   ]
  },
  {
   "cell_type": "code",
   "execution_count": 17,
   "id": "e43b528d",
   "metadata": {},
   "outputs": [
    {
     "name": "stderr",
     "output_type": "stream",
     "text": [
      "2025/07/02 20:40:54 INFO amzn_nova_prompt_optimizer.core.evaluation: Cache miss - Running new inference on Dataset\n",
      "Running inference: 100%|██████████████████████████████████████████████████████████████████████████| 100/100 [00:45<00:00,  2.18it/s]\n",
      "2025/07/02 20:41:40 INFO amzn_nova_prompt_optimizer.core.evaluation: Running Batch Evaluation on Dataset, using `batch_apply` metric\n",
      "2025/07/02 20:41:40 INFO amzn_nova_prompt_optimizer.core.evaluation: Using cached inference results\n",
      "2025/07/02 20:41:40 INFO amzn_nova_prompt_optimizer.core.evaluation: Running Evaluation on Dataset, using `apply` metric\n"
     ]
    },
    {
     "name": "stdout",
     "output_type": "stream",
     "text": [
      "Nova Prompt Optimizer = {'is_valid_json': 1.0, 'correct_categories': 0.95, 'correct_sentiment': 0.65, 'correct_urgency': 0.77, 'total': 0.79}\n"
     ]
    }
   ],
   "source": [
    "nova_prompt_optimizer_evaluation_score = evaluator.aggregate_score(model_id=NOVA_MODEL_ID)\n",
    "print(f\"Nova Prompt Optimizer = {nova_prompt_optimizer_evaluation_score}\")"
   ]
  },
  {
   "cell_type": "code",
   "execution_count": 18,
   "id": "98a74bbb-1744-4daa-a17e-89ede77fee6f",
   "metadata": {},
   "outputs": [],
   "source": [
    "optimized_prompt_adapter.save(\"optimized_prompt/\")"
   ]
  }
 ],
 "metadata": {
  "kernelspec": {
   "display_name": "Python 3.12 (.venv)",
   "language": "python",
   "name": "python312venv"
  },
  "language_info": {
   "codemirror_mode": {
    "name": "ipython",
    "version": 3
   },
   "file_extension": ".py",
   "mimetype": "text/x-python",
   "name": "python",
   "nbconvert_exporter": "python",
   "pygments_lexer": "ipython3",
   "version": "3.12.11"
  }
 },
 "nbformat": 4,
 "nbformat_minor": 5
}
